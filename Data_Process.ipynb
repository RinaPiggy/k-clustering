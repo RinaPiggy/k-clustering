{
  "nbformat": 4,
  "nbformat_minor": 0,
  "metadata": {
    "colab": {
      "name": "Data Process.ipynb",
      "provenance": []
    },
    "kernelspec": {
      "name": "python3",
      "display_name": "Python 3"
    },
    "language_info": {
      "name": "python"
    }
  },
  "cells": [
    {
      "cell_type": "code",
      "metadata": {
        "id": "taRcJffCnEI7",
        "colab": {
          "base_uri": "https://localhost:8080/"
        },
        "outputId": "f3545bce-4b86-4dee-efa3-a8acf33f4fdb"
      },
      "source": [
        "from statsmodels.distributions.empirical_distribution import ECDF\n",
        "from matplotlib import pyplot as plt\n",
        "import pandas as pd\n",
        "import numpy as np\n",
        "from numpy.linalg import norm\n",
        "import seaborn as sns"
      ],
      "execution_count": null,
      "outputs": [
        {
          "output_type": "stream",
          "text": [
            "/usr/local/lib/python3.7/dist-packages/statsmodels/tools/_testing.py:19: FutureWarning: pandas.util.testing is deprecated. Use the functions in the public API at pandas.testing instead.\n",
            "  import pandas.util.testing as tm\n"
          ],
          "name": "stderr"
        }
      ]
    },
    {
      "cell_type": "markdown",
      "metadata": {
        "id": "-SynwrZWcFcI"
      },
      "source": [
        "# STEP 0: Import Data and Reformat"
      ]
    },
    {
      "cell_type": "markdown",
      "metadata": {
        "id": "Qdrc6uN1Cu5F"
      },
      "source": [
        "## Replication"
      ]
    },
    {
      "cell_type": "code",
      "metadata": {
        "id": "FP66tR3CQ_Wr"
      },
      "source": [
        "df_food = pd.read_sas('DR1TOT_I.XPT')\n",
        "df_stock = pd.read_csv('30portfolio.csv')"
      ],
      "execution_count": null,
      "outputs": []
    },
    {
      "cell_type": "code",
      "metadata": {
        "colab": {
          "base_uri": "https://localhost:8080/"
        },
        "id": "LPDDtKy3bt-7",
        "outputId": "a16a7cd1-667f-4386-f5ce-826d4161c41f"
      },
      "source": [
        "stock = df_stock.rename(columns={'Unnamed: 0': 'date'})\n",
        "rename2 = ['date', 'Food', 'Beer', 'Smoke', 'Games', 'Books', 'Hshld', 'Clths',\n",
        "       'Hlth', 'Chems', 'Txtls', 'Cnstr', 'Steel', 'FabPr', 'ElcEq', 'Autos',\n",
        "       'Carry', 'Mines', 'Coal', 'Oil', 'Util', 'Telcm', 'Servs', 'BusEq',\n",
        "       'Paper', 'Trans', 'Whlsl', 'Rtail', 'Meals', 'Fin', 'Other']\n",
        "stock.columns = rename2\n",
        "stock.head(1)"
      ],
      "execution_count": null,
      "outputs": [
        {
          "output_type": "execute_result",
          "data": {
            "text/html": [
              "<div>\n",
              "<style scoped>\n",
              "    .dataframe tbody tr th:only-of-type {\n",
              "        vertical-align: middle;\n",
              "    }\n",
              "\n",
              "    .dataframe tbody tr th {\n",
              "        vertical-align: top;\n",
              "    }\n",
              "\n",
              "    .dataframe thead th {\n",
              "        text-align: right;\n",
              "    }\n",
              "</style>\n",
              "<table border=\"1\" class=\"dataframe\">\n",
              "  <thead>\n",
              "    <tr style=\"text-align: right;\">\n",
              "      <th></th>\n",
              "      <th>date</th>\n",
              "      <th>Food</th>\n",
              "      <th>Beer</th>\n",
              "      <th>Smoke</th>\n",
              "      <th>Games</th>\n",
              "      <th>Books</th>\n",
              "      <th>Hshld</th>\n",
              "      <th>Clths</th>\n",
              "      <th>Hlth</th>\n",
              "      <th>Chems</th>\n",
              "      <th>Txtls</th>\n",
              "      <th>Cnstr</th>\n",
              "      <th>Steel</th>\n",
              "      <th>FabPr</th>\n",
              "      <th>ElcEq</th>\n",
              "      <th>Autos</th>\n",
              "      <th>Carry</th>\n",
              "      <th>Mines</th>\n",
              "      <th>Coal</th>\n",
              "      <th>Oil</th>\n",
              "      <th>Util</th>\n",
              "      <th>Telcm</th>\n",
              "      <th>Servs</th>\n",
              "      <th>BusEq</th>\n",
              "      <th>Paper</th>\n",
              "      <th>Trans</th>\n",
              "      <th>Whlsl</th>\n",
              "      <th>Rtail</th>\n",
              "      <th>Meals</th>\n",
              "      <th>Fin</th>\n",
              "      <th>Other</th>\n",
              "    </tr>\n",
              "  </thead>\n",
              "  <tbody>\n",
              "    <tr>\n",
              "      <th>0</th>\n",
              "      <td>19500103</td>\n",
              "      <td>-0.46</td>\n",
              "      <td>-0.64</td>\n",
              "      <td>-0.41</td>\n",
              "      <td>-1.91</td>\n",
              "      <td>0.44</td>\n",
              "      <td>-0.79</td>\n",
              "      <td>-0.68</td>\n",
              "      <td>-1.23</td>\n",
              "      <td>-0.55</td>\n",
              "      <td>-0.4</td>\n",
              "      <td>-0.74</td>\n",
              "      <td>-0.67</td>\n",
              "      <td>-0.43</td>\n",
              "      <td>0.05</td>\n",
              "      <td>-1.2</td>\n",
              "      <td>-0.33</td>\n",
              "      <td>-0.13</td>\n",
              "      <td>-0.75</td>\n",
              "      <td>-0.91</td>\n",
              "      <td>-0.21</td>\n",
              "      <td>-0.09</td>\n",
              "      <td>-0.96</td>\n",
              "      <td>-1.0</td>\n",
              "      <td>-0.55</td>\n",
              "      <td>0.08</td>\n",
              "      <td>-0.93</td>\n",
              "      <td>-0.66</td>\n",
              "      <td>0.06</td>\n",
              "      <td>-0.44</td>\n",
              "      <td>-0.56</td>\n",
              "    </tr>\n",
              "  </tbody>\n",
              "</table>\n",
              "</div>"
            ],
            "text/plain": [
              "       date  Food  Beer  Smoke  Games  ...  Whlsl  Rtail  Meals   Fin  Other\n",
              "0  19500103 -0.46 -0.64  -0.41  -1.91  ...  -0.93  -0.66   0.06 -0.44  -0.56\n",
              "\n",
              "[1 rows x 31 columns]"
            ]
          },
          "metadata": {
            "tags": []
          },
          "execution_count": 85
        }
      ]
    },
    {
      "cell_type": "code",
      "metadata": {
        "colab": {
          "base_uri": "https://localhost:8080/"
        },
        "id": "IV_k0X1Tyivu",
        "outputId": "de8bc28c-90f8-4c49-9b85-5b610aa05e7a"
      },
      "source": [
        "selected = ['DR1TCRYP', 'DR1TLYCO', 'DR1TLZ', 'DR1TVK', 'DR1TACAR', 'DR1TBCAR', 'DR1TVB6', 'DR1TVB12', 'DR1TB12A','DR1TNIAC', 'DR1TVB2', 'DR1TFOLA', 'DR1TFA', 'DR1TZINC', 'DR1TVB1', 'DR1TIRON', 'DR1TVD', 'DR1TCALC','DR1TRET', 'DR1TATOA','DR1TATOC', 'DR1TVARA', 'DR1TVC', 'DR1TCARB', 'DR1TSUGR', 'DR1TCHL', 'DR1TCHOL', 'DR1TFIBE','DR1TMAGN', 'DR1TCOPP', 'DR1TSELE', 'DR1TPROT', 'DR1TPHOS', 'DR1TPOTA', 'DR1TPFAT', 'DR1TKCAL', 'DR1TSFAT', 'DR1TMFAT', 'DR1TTFAT', 'DR1TSODI']\n",
        "food = df_food[selected]\n",
        "rename = ['Beta_Crypt','Lycopene','Lutein','VitaminK','Alpha_Car','Beta_Car','VitaminB6','VitaminB12','VitaminB12a','Niacin','VitaminB2','Folate','Folic_acid','Zinc','VitaminB1','Iron','VitaminD','Calcium','Retinol','VitaminE','VitaminEa','VitaminA','VitaminC','Carbs','Sugar','Choline','Cholesterol','Fiber','Magnesium','Copper','Selecnium','Protein','Phosphor','Potassium','Polu_unsat_fat','Calories','Sat_fat','Mono_unsat_fat','Fat','Sodium']\n",
        "food.columns = rename\n",
        "food['VitaminB12'] = food['VitaminB12'] + food['VitaminB12a']\n",
        "food['VitaminE'] = food['VitaminE'] + food['VitaminEa']\n",
        "del food['VitaminEa']\n",
        "del food['VitaminB12a']\n",
        "food.head(1)"
      ],
      "execution_count": null,
      "outputs": [
        {
          "output_type": "stream",
          "text": [
            "/usr/local/lib/python3.7/dist-packages/ipykernel_launcher.py:5: SettingWithCopyWarning: \n",
            "A value is trying to be set on a copy of a slice from a DataFrame.\n",
            "Try using .loc[row_indexer,col_indexer] = value instead\n",
            "\n",
            "See the caveats in the documentation: https://pandas.pydata.org/pandas-docs/stable/user_guide/indexing.html#returning-a-view-versus-a-copy\n",
            "  \"\"\"\n",
            "/usr/local/lib/python3.7/dist-packages/ipykernel_launcher.py:6: SettingWithCopyWarning: \n",
            "A value is trying to be set on a copy of a slice from a DataFrame.\n",
            "Try using .loc[row_indexer,col_indexer] = value instead\n",
            "\n",
            "See the caveats in the documentation: https://pandas.pydata.org/pandas-docs/stable/user_guide/indexing.html#returning-a-view-versus-a-copy\n",
            "  \n"
          ],
          "name": "stderr"
        },
        {
          "output_type": "execute_result",
          "data": {
            "text/html": [
              "<div>\n",
              "<style scoped>\n",
              "    .dataframe tbody tr th:only-of-type {\n",
              "        vertical-align: middle;\n",
              "    }\n",
              "\n",
              "    .dataframe tbody tr th {\n",
              "        vertical-align: top;\n",
              "    }\n",
              "\n",
              "    .dataframe thead th {\n",
              "        text-align: right;\n",
              "    }\n",
              "</style>\n",
              "<table border=\"1\" class=\"dataframe\">\n",
              "  <thead>\n",
              "    <tr style=\"text-align: right;\">\n",
              "      <th></th>\n",
              "      <th>Beta_Crypt</th>\n",
              "      <th>Lycopene</th>\n",
              "      <th>Lutein</th>\n",
              "      <th>VitaminK</th>\n",
              "      <th>Alpha_Car</th>\n",
              "      <th>Beta_Car</th>\n",
              "      <th>VitaminB6</th>\n",
              "      <th>VitaminB12</th>\n",
              "      <th>Niacin</th>\n",
              "      <th>VitaminB2</th>\n",
              "      <th>Folate</th>\n",
              "      <th>Folic_acid</th>\n",
              "      <th>Zinc</th>\n",
              "      <th>VitaminB1</th>\n",
              "      <th>Iron</th>\n",
              "      <th>VitaminD</th>\n",
              "      <th>Calcium</th>\n",
              "      <th>Retinol</th>\n",
              "      <th>VitaminE</th>\n",
              "      <th>VitaminA</th>\n",
              "      <th>VitaminC</th>\n",
              "      <th>Carbs</th>\n",
              "      <th>Sugar</th>\n",
              "      <th>Choline</th>\n",
              "      <th>Cholesterol</th>\n",
              "      <th>Fiber</th>\n",
              "      <th>Magnesium</th>\n",
              "      <th>Copper</th>\n",
              "      <th>Selecnium</th>\n",
              "      <th>Protein</th>\n",
              "      <th>Phosphor</th>\n",
              "      <th>Potassium</th>\n",
              "      <th>Polu_unsat_fat</th>\n",
              "      <th>Calories</th>\n",
              "      <th>Sat_fat</th>\n",
              "      <th>Mono_unsat_fat</th>\n",
              "      <th>Fat</th>\n",
              "      <th>Sodium</th>\n",
              "    </tr>\n",
              "  </thead>\n",
              "  <tbody>\n",
              "    <tr>\n",
              "      <th>0</th>\n",
              "      <td>282.0</td>\n",
              "      <td>1206.0</td>\n",
              "      <td>1120.0</td>\n",
              "      <td>139.0</td>\n",
              "      <td>336.0</td>\n",
              "      <td>624.0</td>\n",
              "      <td>2.279</td>\n",
              "      <td>1.89</td>\n",
              "      <td>20.401</td>\n",
              "      <td>1.949</td>\n",
              "      <td>450.0</td>\n",
              "      <td>163.0</td>\n",
              "      <td>8.73</td>\n",
              "      <td>2.344</td>\n",
              "      <td>16.01</td>\n",
              "      <td>2.6</td>\n",
              "      <td>623.0</td>\n",
              "      <td>230.0</td>\n",
              "      <td>10.59</td>\n",
              "      <td>307.0</td>\n",
              "      <td>110.5</td>\n",
              "      <td>193.29</td>\n",
              "      <td>42.31</td>\n",
              "      <td>290.7</td>\n",
              "      <td>138.0</td>\n",
              "      <td>23.6</td>\n",
              "      <td>255.0</td>\n",
              "      <td>1.095</td>\n",
              "      <td>113.6</td>\n",
              "      <td>76.03</td>\n",
              "      <td>1052.0</td>\n",
              "      <td>2641.0</td>\n",
              "      <td>18.528</td>\n",
              "      <td>1781.0</td>\n",
              "      <td>23.43</td>\n",
              "      <td>31.897</td>\n",
              "      <td>79.24</td>\n",
              "      <td>5298.0</td>\n",
              "    </tr>\n",
              "  </tbody>\n",
              "</table>\n",
              "</div>"
            ],
            "text/plain": [
              "   Beta_Crypt  Lycopene  Lutein  ...  Mono_unsat_fat    Fat  Sodium\n",
              "0       282.0    1206.0  1120.0  ...          31.897  79.24  5298.0\n",
              "\n",
              "[1 rows x 38 columns]"
            ]
          },
          "metadata": {
            "tags": []
          },
          "execution_count": 86
        }
      ]
    },
    {
      "cell_type": "code",
      "metadata": {
        "colab": {
          "base_uri": "https://localhost:8080/"
        },
        "id": "out-3ppcyVs9",
        "outputId": "cbbe183d-e3d0-4013-a1a8-56e96893d35f"
      },
      "source": [
        "# delete NaN in Food\n",
        "food = food.dropna()\n",
        "food.isnull().values.any()"
      ],
      "execution_count": null,
      "outputs": [
        {
          "output_type": "execute_result",
          "data": {
            "text/plain": [
              "False"
            ]
          },
          "metadata": {
            "tags": []
          },
          "execution_count": 87
        }
      ]
    },
    {
      "cell_type": "markdown",
      "metadata": {
        "id": "oL4AcNxUcO8M"
      },
      "source": [
        "# STEP 1: Transformation X to Y"
      ]
    },
    {
      "cell_type": "markdown",
      "metadata": {
        "id": "NRkn2jQV-Aw3"
      },
      "source": [
        "## Replication"
      ]
    },
    {
      "cell_type": "code",
      "metadata": {
        "colab": {
          "base_uri": "https://localhost:8080/"
        },
        "id": "aBr-qUI9n2eD",
        "outputId": "d7466d5d-9f9b-412f-99b5-e128dfd6da7d"
      },
      "source": [
        "series = stock['date']\n",
        "# first we times -1 for each avg-value-weighted return for the portfolio data\n",
        "del stock['date']\n",
        "stock = stock * -1\n",
        "# stock['Food']"
      ],
      "execution_count": null,
      "outputs": [
        {
          "output_type": "execute_result",
          "data": {
            "text/plain": [
              "0        0.46\n",
              "1       -0.38\n",
              "2       -0.17\n",
              "3       -0.16\n",
              "4       -0.32\n",
              "         ... \n",
              "16689    0.21\n",
              "16690    0.24\n",
              "16691   -0.78\n",
              "16692    0.46\n",
              "16693    1.11\n",
              "Name: Food, Length: 16694, dtype: float64"
            ]
          },
          "metadata": {
            "tags": []
          },
          "execution_count": 88
        }
      ]
    },
    {
      "cell_type": "code",
      "metadata": {
        "id": "wSOkzyHQrrS9"
      },
      "source": [
        "# first of all, lets make the working dataframe as the X matrix with d dimension and N copies \n",
        "# d = len(df.columns) so d types of data; and N = len(df) so N copies of data \n",
        "\n",
        "# # Next we would like to estimated the empirical distribution of each kinds of data, namely X_d\n",
        "# # The empirical cdf can be found via a statsmodel founction \n",
        "def tranformer_1(df, series):\n",
        "  df_T = pd.DataFrame(columns=['na'])\n",
        "  for col in df:\n",
        "    lgt = len(df[col])\n",
        "    ecdf = ECDF(df[col])\n",
        "    df_T[col] = 1/( 1 - ecdf(df[col]) * lgt/(lgt+1))\n",
        "  df_T['date'] = series\n",
        "  del df_T['na']\n",
        "  return df_T\n",
        "\n",
        "def tranformer_2(df):\n",
        "  df_T = pd.DataFrame(columns=['na'])\n",
        "  for col in df:\n",
        "    lgt = len(df[col])\n",
        "    ecdf = ECDF(df[col])\n",
        "    # Frechettrans<-function(x) 1/(1-ecdf(x)(x)*length(x)/(length(x)+1))\n",
        "    df_T[col] = 1/( 1 - ecdf(df[col]) * lgt/(lgt+1))\n",
        "  del df_T['na']\n",
        "  return df_T"
      ],
      "execution_count": null,
      "outputs": []
    },
    {
      "cell_type": "code",
      "metadata": {
        "colab": {
          "base_uri": "https://localhost:8080/",
          "height": 96
        },
        "id": "yMYt47INsX5-",
        "outputId": "cef3ec2d-9ab5-4dec-a4b2-7f474450f69e"
      },
      "source": [
        "stock_Y = tranformer_1(stock, series)\n",
        "stock_Y.head(1)"
      ],
      "execution_count": null,
      "outputs": [
        {
          "output_type": "execute_result",
          "data": {
            "text/html": [
              "<div>\n",
              "<style scoped>\n",
              "    .dataframe tbody tr th:only-of-type {\n",
              "        vertical-align: middle;\n",
              "    }\n",
              "\n",
              "    .dataframe tbody tr th {\n",
              "        vertical-align: top;\n",
              "    }\n",
              "\n",
              "    .dataframe thead th {\n",
              "        text-align: right;\n",
              "    }\n",
              "</style>\n",
              "<table border=\"1\" class=\"dataframe\">\n",
              "  <thead>\n",
              "    <tr style=\"text-align: right;\">\n",
              "      <th></th>\n",
              "      <th>Food</th>\n",
              "      <th>Beer</th>\n",
              "      <th>Smoke</th>\n",
              "      <th>Games</th>\n",
              "      <th>Books</th>\n",
              "      <th>Hshld</th>\n",
              "      <th>Clths</th>\n",
              "      <th>Hlth</th>\n",
              "      <th>Chems</th>\n",
              "      <th>Txtls</th>\n",
              "      <th>Cnstr</th>\n",
              "      <th>Steel</th>\n",
              "      <th>FabPr</th>\n",
              "      <th>ElcEq</th>\n",
              "      <th>Autos</th>\n",
              "      <th>Carry</th>\n",
              "      <th>Mines</th>\n",
              "      <th>Coal</th>\n",
              "      <th>Oil</th>\n",
              "      <th>Util</th>\n",
              "      <th>Telcm</th>\n",
              "      <th>Servs</th>\n",
              "      <th>BusEq</th>\n",
              "      <th>Paper</th>\n",
              "      <th>Trans</th>\n",
              "      <th>Whlsl</th>\n",
              "      <th>Rtail</th>\n",
              "      <th>Meals</th>\n",
              "      <th>Fin</th>\n",
              "      <th>Other</th>\n",
              "      <th>date</th>\n",
              "    </tr>\n",
              "  </thead>\n",
              "  <tbody>\n",
              "    <tr>\n",
              "      <th>0</th>\n",
              "      <td>5.062159</td>\n",
              "      <td>4.983582</td>\n",
              "      <td>3.44582</td>\n",
              "      <td>16.432087</td>\n",
              "      <td>1.444204</td>\n",
              "      <td>6.686023</td>\n",
              "      <td>5.542829</td>\n",
              "      <td>12.657316</td>\n",
              "      <td>4.343132</td>\n",
              "      <td>3.580313</td>\n",
              "      <td>6.022727</td>\n",
              "      <td>4.256757</td>\n",
              "      <td>3.811644</td>\n",
              "      <td>2.007817</td>\n",
              "      <td>8.132002</td>\n",
              "      <td>3.001618</td>\n",
              "      <td>2.289809</td>\n",
              "      <td>3.824742</td>\n",
              "      <td>6.648746</td>\n",
              "      <td>3.700133</td>\n",
              "      <td>2.442218</td>\n",
              "      <td>6.887376</td>\n",
              "      <td>6.229478</td>\n",
              "      <td>4.789157</td>\n",
              "      <td>1.939926</td>\n",
              "      <td>8.159824</td>\n",
              "      <td>5.621212</td>\n",
              "      <td>2.012173</td>\n",
              "      <td>4.32289</td>\n",
              "      <td>4.610605</td>\n",
              "      <td>19500103</td>\n",
              "    </tr>\n",
              "  </tbody>\n",
              "</table>\n",
              "</div>"
            ],
            "text/plain": [
              "       Food      Beer    Smoke  ...      Fin     Other      date\n",
              "0  5.062159  4.983582  3.44582  ...  4.32289  4.610605  19500103\n",
              "\n",
              "[1 rows x 31 columns]"
            ]
          },
          "metadata": {
            "tags": []
          },
          "execution_count": 90
        }
      ]
    },
    {
      "cell_type": "code",
      "metadata": {
        "colab": {
          "base_uri": "https://localhost:8080/"
        },
        "id": "6SnF1Hq9kmWt",
        "outputId": "0d04d6f0-9a91-458a-9953-f7d34e2b99d1"
      },
      "source": [
        "len(stock_Y)"
      ],
      "execution_count": null,
      "outputs": [
        {
          "output_type": "execute_result",
          "data": {
            "text/plain": [
              "16694"
            ]
          },
          "metadata": {
            "tags": []
          },
          "execution_count": 91
        }
      ]
    },
    {
      "cell_type": "code",
      "metadata": {
        "colab": {
          "base_uri": "https://localhost:8080/",
          "height": 96
        },
        "id": "r0oKX9LSsyZR",
        "outputId": "3d49292d-8761-42ff-f26e-afe2c6d1035d"
      },
      "source": [
        "food_Y = tranformer_2(food)\n",
        "food_Y.head(1)"
      ],
      "execution_count": null,
      "outputs": [
        {
          "output_type": "execute_result",
          "data": {
            "text/html": [
              "<div>\n",
              "<style scoped>\n",
              "    .dataframe tbody tr th:only-of-type {\n",
              "        vertical-align: middle;\n",
              "    }\n",
              "\n",
              "    .dataframe tbody tr th {\n",
              "        vertical-align: top;\n",
              "    }\n",
              "\n",
              "    .dataframe thead th {\n",
              "        text-align: right;\n",
              "    }\n",
              "</style>\n",
              "<table border=\"1\" class=\"dataframe\">\n",
              "  <thead>\n",
              "    <tr style=\"text-align: right;\">\n",
              "      <th></th>\n",
              "      <th>Beta_Crypt</th>\n",
              "      <th>Lycopene</th>\n",
              "      <th>Lutein</th>\n",
              "      <th>VitaminK</th>\n",
              "      <th>Alpha_Car</th>\n",
              "      <th>Beta_Car</th>\n",
              "      <th>VitaminB6</th>\n",
              "      <th>VitaminB12</th>\n",
              "      <th>Niacin</th>\n",
              "      <th>VitaminB2</th>\n",
              "      <th>Folate</th>\n",
              "      <th>Folic_acid</th>\n",
              "      <th>Zinc</th>\n",
              "      <th>VitaminB1</th>\n",
              "      <th>Iron</th>\n",
              "      <th>VitaminD</th>\n",
              "      <th>Calcium</th>\n",
              "      <th>Retinol</th>\n",
              "      <th>VitaminE</th>\n",
              "      <th>VitaminA</th>\n",
              "      <th>VitaminC</th>\n",
              "      <th>Carbs</th>\n",
              "      <th>Sugar</th>\n",
              "      <th>Choline</th>\n",
              "      <th>Cholesterol</th>\n",
              "      <th>Fiber</th>\n",
              "      <th>Magnesium</th>\n",
              "      <th>Copper</th>\n",
              "      <th>Selecnium</th>\n",
              "      <th>Protein</th>\n",
              "      <th>Phosphor</th>\n",
              "      <th>Potassium</th>\n",
              "      <th>Polu_unsat_fat</th>\n",
              "      <th>Calories</th>\n",
              "      <th>Sat_fat</th>\n",
              "      <th>Mono_unsat_fat</th>\n",
              "      <th>Fat</th>\n",
              "      <th>Sodium</th>\n",
              "    </tr>\n",
              "  </thead>\n",
              "  <tbody>\n",
              "    <tr>\n",
              "      <th>0</th>\n",
              "      <td>16.046243</td>\n",
              "      <td>1.862671</td>\n",
              "      <td>3.875291</td>\n",
              "      <td>6.06555</td>\n",
              "      <td>5.284264</td>\n",
              "      <td>2.117468</td>\n",
              "      <td>4.120732</td>\n",
              "      <td>1.274759</td>\n",
              "      <td>2.050726</td>\n",
              "      <td>2.543677</td>\n",
              "      <td>3.761518</td>\n",
              "      <td>2.542901</td>\n",
              "      <td>1.958147</td>\n",
              "      <td>7.612431</td>\n",
              "      <td>3.496222</td>\n",
              "      <td>1.652381</td>\n",
              "      <td>1.530039</td>\n",
              "      <td>1.550838</td>\n",
              "      <td>4.104485</td>\n",
              "      <td>1.470858</td>\n",
              "      <td>4.216709</td>\n",
              "      <td>1.650416</td>\n",
              "      <td>1.155704</td>\n",
              "      <td>2.431533</td>\n",
              "      <td>1.483699</td>\n",
              "      <td>6.021692</td>\n",
              "      <td>2.29169</td>\n",
              "      <td>2.73318</td>\n",
              "      <td>2.829766</td>\n",
              "      <td>2.579926</td>\n",
              "      <td>1.735362</td>\n",
              "      <td>3.006498</td>\n",
              "      <td>2.778779</td>\n",
              "      <td>1.955389</td>\n",
              "      <td>2.159751</td>\n",
              "      <td>3.441322</td>\n",
              "      <td>2.54601</td>\n",
              "      <td>9.091703</td>\n",
              "    </tr>\n",
              "  </tbody>\n",
              "</table>\n",
              "</div>"
            ],
            "text/plain": [
              "   Beta_Crypt  Lycopene    Lutein  ...  Mono_unsat_fat      Fat    Sodium\n",
              "0   16.046243  1.862671  3.875291  ...        3.441322  2.54601  9.091703\n",
              "\n",
              "[1 rows x 38 columns]"
            ]
          },
          "metadata": {
            "tags": []
          },
          "execution_count": 92
        }
      ]
    },
    {
      "cell_type": "code",
      "metadata": {
        "colab": {
          "base_uri": "https://localhost:8080/"
        },
        "id": "ECA1umcVC2_z",
        "outputId": "110226a5-4296-4d7a-bbda-fe4d53dc0abf"
      },
      "source": [
        "len(food_Y)"
      ],
      "execution_count": null,
      "outputs": [
        {
          "output_type": "execute_result",
          "data": {
            "text/plain": [
              "8327"
            ]
          },
          "metadata": {
            "tags": []
          },
          "execution_count": 93
        }
      ]
    },
    {
      "cell_type": "markdown",
      "metadata": {
        "id": "uS6k6w10ta8i"
      },
      "source": [
        "# STEP 2: Select a fraction of Y "
      ]
    },
    {
      "cell_type": "code",
      "metadata": {
        "id": "B6CFrhIe1Msb"
      },
      "source": [
        "# defind an algorithm to find the threshold accroding to biggest x% of norm of transform data y\n",
        "# df_y: transform data matrix\n",
        "# pct: precentile(provided)\n",
        "def find_u_newY(df_y, pct):\n",
        "  series = df_y['date']\n",
        "  del df_y['date']\n",
        "  norm_list = []\n",
        "  for i in range(len(df_y)):\n",
        "    # for each row / each Y copy i, i ranges from 0 to len(df)-1\n",
        "    temp = df_y[i:i+1]\n",
        "    # record the norm of the selected copy\n",
        "    nm = norm(temp)\n",
        "    norm_list.append(nm)\n",
        "  lst = np.array(norm_list)\n",
        "  u = np.percentile(lst, pct)\n",
        "  # add the norm information of each row to the transform dataset\n",
        "  df_y['date'] = series\n",
        "  df_y['norm'] = norm_list\n",
        "  # select a fraction of y based on the 'norm' information by mask\n",
        "  mask = (df_y['norm'] > u)\n",
        "  new_y = df_y.loc[mask]\n",
        "  return u, new_y\n",
        "\n",
        "def find_u_newY2(df_y, pct):\n",
        "  norm_list = []\n",
        "  for i in range(len(df_y)):\n",
        "    # for each row / each Y copy i, i ranges from 0 to len(df)-1\n",
        "    temp = df_y[i:i+1]\n",
        "    # record the norm of the selected copy\n",
        "    nm = norm(temp)\n",
        "    norm_list.append(nm)\n",
        "  lst = np.array(norm_list)\n",
        "  u = np.percentile(lst, pct)\n",
        "  # add the norm information of each row to the transform dataset\n",
        "  df_y['norm'] = norm_list\n",
        "  # select a fraction of y based on the 'norm' information by mask\n",
        "  mask = (df_y['norm'] > u)\n",
        "  new_y = df_y.loc[mask]\n",
        "  return u, new_y"
      ],
      "execution_count": null,
      "outputs": []
    },
    {
      "cell_type": "markdown",
      "metadata": {
        "id": "_bqAvXGmB67a"
      },
      "source": [
        "## Replication"
      ]
    },
    {
      "cell_type": "code",
      "metadata": {
        "colab": {
          "base_uri": "https://localhost:8080/"
        },
        "id": "PxgQ15wU85MY",
        "outputId": "512122a7-e40a-429a-a9d8-7a333bb36f5c"
      },
      "source": [
        "print(len(stock_Y))"
      ],
      "execution_count": null,
      "outputs": [
        {
          "output_type": "stream",
          "text": [
            "16694\n"
          ],
          "name": "stdout"
        }
      ]
    },
    {
      "cell_type": "code",
      "metadata": {
        "colab": {
          "base_uri": "https://localhost:8080/"
        },
        "id": "fAqtyh1p8_8d",
        "outputId": "45040b10-c991-47dc-90a8-f142bdab235e"
      },
      "source": [
        "stock_u, new_stock_Y = find_u_newY(stock_Y, 95)\n",
        "print(stock_u)\n",
        "print(len(new_stock_Y))"
      ],
      "execution_count": null,
      "outputs": [
        {
          "output_type": "stream",
          "text": [
            "224.72406720981394\n",
            "835\n"
          ],
          "name": "stdout"
        }
      ]
    },
    {
      "cell_type": "code",
      "metadata": {
        "colab": {
          "base_uri": "https://localhost:8080/"
        },
        "id": "6sqDpl6n_iFM",
        "outputId": "68d50e2b-e269-4e39-e866-01d71cd85164"
      },
      "source": [
        "food_u, new_food_Y = find_u_newY2(food_Y, 95)\n",
        "print(food_u)\n",
        "print(len(new_food_Y))"
      ],
      "execution_count": null,
      "outputs": [
        {
          "output_type": "stream",
          "text": [
            "401.0291886977468\n",
            "417\n"
          ],
          "name": "stdout"
        }
      ]
    },
    {
      "cell_type": "code",
      "metadata": {
        "id": "Y5_Ij-l_9rNZ"
      },
      "source": [
        "new_stock_Y.to_csv('extremal_stock.csv')"
      ],
      "execution_count": null,
      "outputs": []
    },
    {
      "cell_type": "code",
      "metadata": {
        "id": "SXqxx4piDyWc"
      },
      "source": [
        "new_food_Y.to_csv('extremal_food.csv')"
      ],
      "execution_count": null,
      "outputs": []
    },
    {
      "cell_type": "markdown",
      "metadata": {
        "id": "FEow07nQ3F5_"
      },
      "source": [
        "# STEP3: Calculate the unit spher of Y"
      ]
    },
    {
      "cell_type": "code",
      "metadata": {
        "colab": {
          "base_uri": "https://localhost:8080/"
        },
        "id": "CsOxf7mx9tHM",
        "outputId": "2970b662-f50b-4f82-db61-21f95ce89857"
      },
      "source": [
        "new_stock_Y.head()"
      ],
      "execution_count": null,
      "outputs": [
        {
          "output_type": "execute_result",
          "data": {
            "text/html": [
              "<div>\n",
              "<style scoped>\n",
              "    .dataframe tbody tr th:only-of-type {\n",
              "        vertical-align: middle;\n",
              "    }\n",
              "\n",
              "    .dataframe tbody tr th {\n",
              "        vertical-align: top;\n",
              "    }\n",
              "\n",
              "    .dataframe thead th {\n",
              "        text-align: right;\n",
              "    }\n",
              "</style>\n",
              "<table border=\"1\" class=\"dataframe\">\n",
              "  <thead>\n",
              "    <tr style=\"text-align: right;\">\n",
              "      <th></th>\n",
              "      <th>Food</th>\n",
              "      <th>Beer</th>\n",
              "      <th>Smoke</th>\n",
              "      <th>Games</th>\n",
              "      <th>Books</th>\n",
              "      <th>Hshld</th>\n",
              "      <th>Clths</th>\n",
              "      <th>Hlth</th>\n",
              "      <th>Chems</th>\n",
              "      <th>Txtls</th>\n",
              "      <th>Cnstr</th>\n",
              "      <th>Steel</th>\n",
              "      <th>FabPr</th>\n",
              "      <th>ElcEq</th>\n",
              "      <th>Autos</th>\n",
              "      <th>Carry</th>\n",
              "      <th>Mines</th>\n",
              "      <th>Coal</th>\n",
              "      <th>Oil</th>\n",
              "      <th>Util</th>\n",
              "      <th>Telcm</th>\n",
              "      <th>Servs</th>\n",
              "      <th>BusEq</th>\n",
              "      <th>Paper</th>\n",
              "      <th>Trans</th>\n",
              "      <th>Whlsl</th>\n",
              "      <th>Rtail</th>\n",
              "      <th>Meals</th>\n",
              "      <th>Fin</th>\n",
              "      <th>Other</th>\n",
              "      <th>date</th>\n",
              "      <th>norm</th>\n",
              "    </tr>\n",
              "  </thead>\n",
              "  <tbody>\n",
              "    <tr>\n",
              "      <th>8</th>\n",
              "      <td>22.621951</td>\n",
              "      <td>203.597561</td>\n",
              "      <td>6.585799</td>\n",
              "      <td>58.785211</td>\n",
              "      <td>22.591340</td>\n",
              "      <td>35.749465</td>\n",
              "      <td>5.778816</td>\n",
              "      <td>36.058315</td>\n",
              "      <td>32.799607</td>\n",
              "      <td>24.160637</td>\n",
              "      <td>41.120690</td>\n",
              "      <td>37.943182</td>\n",
              "      <td>39.844869</td>\n",
              "      <td>39.375000</td>\n",
              "      <td>31.089385</td>\n",
              "      <td>111.300000</td>\n",
              "      <td>11.642259</td>\n",
              "      <td>4.141652</td>\n",
              "      <td>18.068182</td>\n",
              "      <td>24.843750</td>\n",
              "      <td>3.639634</td>\n",
              "      <td>85.615385</td>\n",
              "      <td>7.476489</td>\n",
              "      <td>46.504178</td>\n",
              "      <td>114.349315</td>\n",
              "      <td>45.991736</td>\n",
              "      <td>13.398876</td>\n",
              "      <td>46.634078</td>\n",
              "      <td>22.230360</td>\n",
              "      <td>5.448760</td>\n",
              "      <td>19500112</td>\n",
              "      <td>313.997561</td>\n",
              "    </tr>\n",
              "    <tr>\n",
              "      <th>140</th>\n",
              "      <td>1.863281</td>\n",
              "      <td>1.082404</td>\n",
              "      <td>1.668999</td>\n",
              "      <td>1.314050</td>\n",
              "      <td>1.666001</td>\n",
              "      <td>1.133094</td>\n",
              "      <td>3.511780</td>\n",
              "      <td>1.822200</td>\n",
              "      <td>2.271120</td>\n",
              "      <td>1.764240</td>\n",
              "      <td>1.459226</td>\n",
              "      <td>2.283233</td>\n",
              "      <td>3.475953</td>\n",
              "      <td>3.285124</td>\n",
              "      <td>2.439363</td>\n",
              "      <td>5.707692</td>\n",
              "      <td>2.104766</td>\n",
              "      <td>1.760890</td>\n",
              "      <td>2.395953</td>\n",
              "      <td>1.707754</td>\n",
              "      <td>1.883886</td>\n",
              "      <td>1669.500000</td>\n",
              "      <td>2.259746</td>\n",
              "      <td>1.357869</td>\n",
              "      <td>1.590000</td>\n",
              "      <td>5.371622</td>\n",
              "      <td>1.172484</td>\n",
              "      <td>4.097938</td>\n",
              "      <td>1.195746</td>\n",
              "      <td>2.941850</td>\n",
              "      <td>19500623</td>\n",
              "      <td>1669.557563</td>\n",
              "    </tr>\n",
              "    <tr>\n",
              "      <th>141</th>\n",
              "      <td>477.000000</td>\n",
              "      <td>1284.230769</td>\n",
              "      <td>26.167712</td>\n",
              "      <td>287.844828</td>\n",
              "      <td>208.687500</td>\n",
              "      <td>238.500000</td>\n",
              "      <td>137.975207</td>\n",
              "      <td>477.000000</td>\n",
              "      <td>667.800000</td>\n",
              "      <td>667.800000</td>\n",
              "      <td>340.714286</td>\n",
              "      <td>379.431818</td>\n",
              "      <td>463.750000</td>\n",
              "      <td>2086.875000</td>\n",
              "      <td>1043.437500</td>\n",
              "      <td>120.107914</td>\n",
              "      <td>31.860687</td>\n",
              "      <td>38.291284</td>\n",
              "      <td>596.250000</td>\n",
              "      <td>695.625000</td>\n",
              "      <td>225.608108</td>\n",
              "      <td>1.097705</td>\n",
              "      <td>72.586957</td>\n",
              "      <td>1284.230769</td>\n",
              "      <td>1043.437500</td>\n",
              "      <td>228.698630</td>\n",
              "      <td>327.352941</td>\n",
              "      <td>249.179104</td>\n",
              "      <td>428.076923</td>\n",
              "      <td>179.516129</td>\n",
              "      <td>19500626</td>\n",
              "      <td>3633.962251</td>\n",
              "    </tr>\n",
              "    <tr>\n",
              "      <th>144</th>\n",
              "      <td>131.456693</td>\n",
              "      <td>89.278075</td>\n",
              "      <td>17.893891</td>\n",
              "      <td>63.721374</td>\n",
              "      <td>146.447368</td>\n",
              "      <td>214.038462</td>\n",
              "      <td>61.605166</td>\n",
              "      <td>90.243243</td>\n",
              "      <td>287.844828</td>\n",
              "      <td>62.763158</td>\n",
              "      <td>183.461538</td>\n",
              "      <td>120.107914</td>\n",
              "      <td>122.757353</td>\n",
              "      <td>538.548387</td>\n",
              "      <td>211.329114</td>\n",
              "      <td>72.272727</td>\n",
              "      <td>34.853862</td>\n",
              "      <td>13.695652</td>\n",
              "      <td>128.423077</td>\n",
              "      <td>282.966102</td>\n",
              "      <td>49.835821</td>\n",
              "      <td>116.748252</td>\n",
              "      <td>71.652361</td>\n",
              "      <td>397.500000</td>\n",
              "      <td>112.046980</td>\n",
              "      <td>173.906250</td>\n",
              "      <td>82.648515</td>\n",
              "      <td>5.452319</td>\n",
              "      <td>249.179104</td>\n",
              "      <td>67.318548</td>\n",
              "      <td>19500629</td>\n",
              "      <td>996.089615</td>\n",
              "    </tr>\n",
              "    <tr>\n",
              "      <th>151</th>\n",
              "      <td>94.322034</td>\n",
              "      <td>1.136642</td>\n",
              "      <td>31.982759</td>\n",
              "      <td>2.593600</td>\n",
              "      <td>8.444613</td>\n",
              "      <td>20.687732</td>\n",
              "      <td>1.522433</td>\n",
              "      <td>70.443038</td>\n",
              "      <td>64.211538</td>\n",
              "      <td>1.017678</td>\n",
              "      <td>156.028037</td>\n",
              "      <td>1.487040</td>\n",
              "      <td>5.217188</td>\n",
              "      <td>34.002037</td>\n",
              "      <td>29.601064</td>\n",
              "      <td>1.977612</td>\n",
              "      <td>11.411483</td>\n",
              "      <td>1.104605</td>\n",
              "      <td>2.896929</td>\n",
              "      <td>130.429688</td>\n",
              "      <td>17.629356</td>\n",
              "      <td>14.429559</td>\n",
              "      <td>53.168790</td>\n",
              "      <td>50.590909</td>\n",
              "      <td>1.090393</td>\n",
              "      <td>1.370015</td>\n",
              "      <td>10.620229</td>\n",
              "      <td>18.285871</td>\n",
              "      <td>231.875000</td>\n",
              "      <td>17.088025</td>\n",
              "      <td>19500711</td>\n",
              "      <td>351.413364</td>\n",
              "    </tr>\n",
              "  </tbody>\n",
              "</table>\n",
              "</div>"
            ],
            "text/plain": [
              "           Food         Beer      Smoke  ...       Other      date         norm\n",
              "8     22.621951   203.597561   6.585799  ...    5.448760  19500112   313.997561\n",
              "140    1.863281     1.082404   1.668999  ...    2.941850  19500623  1669.557563\n",
              "141  477.000000  1284.230769  26.167712  ...  179.516129  19500626  3633.962251\n",
              "144  131.456693    89.278075  17.893891  ...   67.318548  19500629   996.089615\n",
              "151   94.322034     1.136642  31.982759  ...   17.088025  19500711   351.413364\n",
              "\n",
              "[5 rows x 32 columns]"
            ]
          },
          "metadata": {
            "tags": []
          },
          "execution_count": 106
        }
      ]
    },
    {
      "cell_type": "code",
      "metadata": {
        "id": "319uNTVR-vam"
      },
      "source": [
        "temp = new_stock_Y.copy()\n",
        "temp2 = new_food_Y.copy()"
      ],
      "execution_count": null,
      "outputs": []
    },
    {
      "cell_type": "code",
      "metadata": {
        "id": "emzOx1Rp3M7k"
      },
      "source": [
        "def spher_stock(df):\n",
        "  series = df['date']\n",
        "  del df['date']\n",
        "  for col in df:\n",
        "    df[col] = df[col]/df['norm']\n",
        "  df['date'] = series\n",
        "  del df['norm']\n",
        "  return df \n",
        "# stock_sb = spher_stock(temp)"
      ],
      "execution_count": null,
      "outputs": []
    },
    {
      "cell_type": "code",
      "metadata": {
        "colab": {
          "base_uri": "https://localhost:8080/"
        },
        "id": "Vd7_mwBHVIod",
        "outputId": "0bbad71f-321e-4bf5-e323-6bd46fe96616"
      },
      "source": [
        "stock_sb.head(1)"
      ],
      "execution_count": null,
      "outputs": [
        {
          "output_type": "execute_result",
          "data": {
            "text/html": [
              "<div>\n",
              "<style scoped>\n",
              "    .dataframe tbody tr th:only-of-type {\n",
              "        vertical-align: middle;\n",
              "    }\n",
              "\n",
              "    .dataframe tbody tr th {\n",
              "        vertical-align: top;\n",
              "    }\n",
              "\n",
              "    .dataframe thead th {\n",
              "        text-align: right;\n",
              "    }\n",
              "</style>\n",
              "<table border=\"1\" class=\"dataframe\">\n",
              "  <thead>\n",
              "    <tr style=\"text-align: right;\">\n",
              "      <th></th>\n",
              "      <th>Food</th>\n",
              "      <th>Beer</th>\n",
              "      <th>Smoke</th>\n",
              "      <th>Games</th>\n",
              "      <th>Books</th>\n",
              "      <th>Hshld</th>\n",
              "      <th>Clths</th>\n",
              "      <th>Hlth</th>\n",
              "      <th>Chems</th>\n",
              "      <th>Txtls</th>\n",
              "      <th>Cnstr</th>\n",
              "      <th>Steel</th>\n",
              "      <th>FabPr</th>\n",
              "      <th>ElcEq</th>\n",
              "      <th>Autos</th>\n",
              "      <th>Carry</th>\n",
              "      <th>Mines</th>\n",
              "      <th>Coal</th>\n",
              "      <th>Oil</th>\n",
              "      <th>Util</th>\n",
              "      <th>Telcm</th>\n",
              "      <th>Servs</th>\n",
              "      <th>BusEq</th>\n",
              "      <th>Paper</th>\n",
              "      <th>Trans</th>\n",
              "      <th>Whlsl</th>\n",
              "      <th>Rtail</th>\n",
              "      <th>Meals</th>\n",
              "      <th>Fin</th>\n",
              "      <th>Other</th>\n",
              "      <th>date</th>\n",
              "    </tr>\n",
              "  </thead>\n",
              "  <tbody>\n",
              "    <tr>\n",
              "      <th>8</th>\n",
              "      <td>0.072045</td>\n",
              "      <td>0.648405</td>\n",
              "      <td>0.020974</td>\n",
              "      <td>0.187216</td>\n",
              "      <td>0.071948</td>\n",
              "      <td>0.113853</td>\n",
              "      <td>0.018404</td>\n",
              "      <td>0.114836</td>\n",
              "      <td>0.104458</td>\n",
              "      <td>0.076945</td>\n",
              "      <td>0.130959</td>\n",
              "      <td>0.120839</td>\n",
              "      <td>0.126895</td>\n",
              "      <td>0.125399</td>\n",
              "      <td>0.099012</td>\n",
              "      <td>0.354461</td>\n",
              "      <td>0.037078</td>\n",
              "      <td>0.01319</td>\n",
              "      <td>0.057542</td>\n",
              "      <td>0.079121</td>\n",
              "      <td>0.011591</td>\n",
              "      <td>0.272663</td>\n",
              "      <td>0.023811</td>\n",
              "      <td>0.148104</td>\n",
              "      <td>0.364173</td>\n",
              "      <td>0.146472</td>\n",
              "      <td>0.042672</td>\n",
              "      <td>0.148517</td>\n",
              "      <td>0.070798</td>\n",
              "      <td>0.017353</td>\n",
              "      <td>19500112</td>\n",
              "    </tr>\n",
              "  </tbody>\n",
              "</table>\n",
              "</div>"
            ],
            "text/plain": [
              "       Food      Beer     Smoke  ...       Fin     Other      date\n",
              "8  0.072045  0.648405  0.020974  ...  0.070798  0.017353  19500112\n",
              "\n",
              "[1 rows x 31 columns]"
            ]
          },
          "metadata": {
            "tags": []
          },
          "execution_count": 109
        }
      ]
    },
    {
      "cell_type": "code",
      "metadata": {
        "id": "-vPgZZXL_0iC"
      },
      "source": [
        "def spher_food(df):\n",
        "  for col in df:\n",
        "    df[col] = df[col]/df['norm']\n",
        "  del df['norm']\n",
        "  return df \n",
        "food_sb = spher_food(temp2)"
      ],
      "execution_count": null,
      "outputs": []
    },
    {
      "cell_type": "code",
      "metadata": {
        "id": "5s9u3fSsUpFK"
      },
      "source": [
        "stock_sb.to_csv('stock_angular.csv')\n",
        "food_sb.to_csv('food_angular.csv')"
      ],
      "execution_count": null,
      "outputs": []
    },
    {
      "cell_type": "markdown",
      "metadata": {
        "id": "Ra_4O7gBJ65s"
      },
      "source": [
        "# Heatmap Visualization"
      ]
    },
    {
      "cell_type": "code",
      "metadata": {
        "id": "YU42jhwQXz-x"
      },
      "source": [
        "def scaler(matrix):\n",
        "  max_lst = list(matrix.max(axis=1))\n",
        "  for i in range(len(matrix)):\n",
        "    matrix[i:i+1] = matrix[i:i+1]/max_lst[i]\n",
        "  return matrix"
      ],
      "execution_count": null,
      "outputs": []
    },
    {
      "cell_type": "markdown",
      "metadata": {
        "id": "tAxOxHdqWB2d"
      },
      "source": [
        "## k5 stock"
      ]
    },
    {
      "cell_type": "code",
      "metadata": {
        "id": "6TgLdN_KJ-sT"
      },
      "source": [
        "stock_5 = pd.read_csv(\"k5stock.csv\")\n",
        "del stock_5['Unnamed: 0']\n",
        "stock_5 = stock_5[['Smoke','Coal','Mines','Oil','Servs','BusEq','Beer','Hshld','Meals','Food','Hlth','Whlsl','Rtail','Telcm','Other','Chems','Steel','FabPr','Txtls','Clths','Fin','Books','Autos','Cnstr','Util','Trans','Paper','ElcEq','Carry','Games']]"
      ],
      "execution_count": null,
      "outputs": []
    },
    {
      "cell_type": "code",
      "metadata": {
        "id": "XDpmdXYVX0zt",
        "colab": {
          "base_uri": "https://localhost:8080/",
          "height": 224
        },
        "outputId": "8aef2808-af89-47ac-f71e-170cf26dba52"
      },
      "source": [
        "nw_stock5 = stock_5\n",
        "nw_stock5"
      ],
      "execution_count": null,
      "outputs": [
        {
          "output_type": "execute_result",
          "data": {
            "text/html": [
              "<div>\n",
              "<style scoped>\n",
              "    .dataframe tbody tr th:only-of-type {\n",
              "        vertical-align: middle;\n",
              "    }\n",
              "\n",
              "    .dataframe tbody tr th {\n",
              "        vertical-align: top;\n",
              "    }\n",
              "\n",
              "    .dataframe thead th {\n",
              "        text-align: right;\n",
              "    }\n",
              "</style>\n",
              "<table border=\"1\" class=\"dataframe\">\n",
              "  <thead>\n",
              "    <tr style=\"text-align: right;\">\n",
              "      <th></th>\n",
              "      <th>Smoke</th>\n",
              "      <th>Coal</th>\n",
              "      <th>Mines</th>\n",
              "      <th>Oil</th>\n",
              "      <th>Servs</th>\n",
              "      <th>BusEq</th>\n",
              "      <th>Beer</th>\n",
              "      <th>Hshld</th>\n",
              "      <th>Meals</th>\n",
              "      <th>Food</th>\n",
              "      <th>Hlth</th>\n",
              "      <th>Whlsl</th>\n",
              "      <th>Rtail</th>\n",
              "      <th>Telcm</th>\n",
              "      <th>Other</th>\n",
              "      <th>Chems</th>\n",
              "      <th>Steel</th>\n",
              "      <th>FabPr</th>\n",
              "      <th>Txtls</th>\n",
              "      <th>Clths</th>\n",
              "      <th>Fin</th>\n",
              "      <th>Books</th>\n",
              "      <th>Autos</th>\n",
              "      <th>Cnstr</th>\n",
              "      <th>Util</th>\n",
              "      <th>Trans</th>\n",
              "      <th>Paper</th>\n",
              "      <th>ElcEq</th>\n",
              "      <th>Carry</th>\n",
              "      <th>Games</th>\n",
              "    </tr>\n",
              "  </thead>\n",
              "  <tbody>\n",
              "    <tr>\n",
              "      <th>0</th>\n",
              "      <td>0.034477</td>\n",
              "      <td>0.566601</td>\n",
              "      <td>0.480518</td>\n",
              "      <td>0.410419</td>\n",
              "      <td>0.064219</td>\n",
              "      <td>0.061071</td>\n",
              "      <td>0.041802</td>\n",
              "      <td>0.048236</td>\n",
              "      <td>0.043426</td>\n",
              "      <td>0.069259</td>\n",
              "      <td>0.055371</td>\n",
              "      <td>0.085657</td>\n",
              "      <td>0.063560</td>\n",
              "      <td>0.065778</td>\n",
              "      <td>0.060789</td>\n",
              "      <td>0.204984</td>\n",
              "      <td>0.209150</td>\n",
              "      <td>0.167691</td>\n",
              "      <td>0.072314</td>\n",
              "      <td>0.067690</td>\n",
              "      <td>0.100358</td>\n",
              "      <td>0.090310</td>\n",
              "      <td>0.107953</td>\n",
              "      <td>0.165663</td>\n",
              "      <td>0.151042</td>\n",
              "      <td>0.093815</td>\n",
              "      <td>0.083200</td>\n",
              "      <td>0.092472</td>\n",
              "      <td>0.071129</td>\n",
              "      <td>0.064737</td>\n",
              "    </tr>\n",
              "    <tr>\n",
              "      <th>1</th>\n",
              "      <td>0.047548</td>\n",
              "      <td>0.093428</td>\n",
              "      <td>0.037397</td>\n",
              "      <td>0.054072</td>\n",
              "      <td>0.473399</td>\n",
              "      <td>0.617186</td>\n",
              "      <td>0.039210</td>\n",
              "      <td>0.054530</td>\n",
              "      <td>0.044922</td>\n",
              "      <td>0.034100</td>\n",
              "      <td>0.094857</td>\n",
              "      <td>0.087651</td>\n",
              "      <td>0.132054</td>\n",
              "      <td>0.319439</td>\n",
              "      <td>0.291802</td>\n",
              "      <td>0.057077</td>\n",
              "      <td>0.211607</td>\n",
              "      <td>0.154747</td>\n",
              "      <td>0.058103</td>\n",
              "      <td>0.072203</td>\n",
              "      <td>0.085660</td>\n",
              "      <td>0.070339</td>\n",
              "      <td>0.093087</td>\n",
              "      <td>0.044479</td>\n",
              "      <td>0.070453</td>\n",
              "      <td>0.057977</td>\n",
              "      <td>0.058081</td>\n",
              "      <td>0.124017</td>\n",
              "      <td>0.098569</td>\n",
              "      <td>0.101823</td>\n",
              "    </tr>\n",
              "    <tr>\n",
              "      <th>2</th>\n",
              "      <td>0.062181</td>\n",
              "      <td>0.085001</td>\n",
              "      <td>0.112714</td>\n",
              "      <td>0.124060</td>\n",
              "      <td>0.112115</td>\n",
              "      <td>0.092683</td>\n",
              "      <td>0.063676</td>\n",
              "      <td>0.098541</td>\n",
              "      <td>0.099909</td>\n",
              "      <td>0.128460</td>\n",
              "      <td>0.105967</td>\n",
              "      <td>0.155231</td>\n",
              "      <td>0.167792</td>\n",
              "      <td>0.160441</td>\n",
              "      <td>0.153397</td>\n",
              "      <td>0.180980</td>\n",
              "      <td>0.162571</td>\n",
              "      <td>0.186345</td>\n",
              "      <td>0.312218</td>\n",
              "      <td>0.264267</td>\n",
              "      <td>0.275413</td>\n",
              "      <td>0.231828</td>\n",
              "      <td>0.238952</td>\n",
              "      <td>0.235724</td>\n",
              "      <td>0.223996</td>\n",
              "      <td>0.212476</td>\n",
              "      <td>0.202248</td>\n",
              "      <td>0.211474</td>\n",
              "      <td>0.224782</td>\n",
              "      <td>0.227365</td>\n",
              "    </tr>\n",
              "    <tr>\n",
              "      <th>3</th>\n",
              "      <td>0.105957</td>\n",
              "      <td>0.063587</td>\n",
              "      <td>0.061007</td>\n",
              "      <td>0.097302</td>\n",
              "      <td>0.144815</td>\n",
              "      <td>0.108449</td>\n",
              "      <td>0.415934</td>\n",
              "      <td>0.338672</td>\n",
              "      <td>0.384721</td>\n",
              "      <td>0.256751</td>\n",
              "      <td>0.294757</td>\n",
              "      <td>0.229985</td>\n",
              "      <td>0.225338</td>\n",
              "      <td>0.100405</td>\n",
              "      <td>0.148215</td>\n",
              "      <td>0.123152</td>\n",
              "      <td>0.076388</td>\n",
              "      <td>0.105811</td>\n",
              "      <td>0.081022</td>\n",
              "      <td>0.124209</td>\n",
              "      <td>0.098333</td>\n",
              "      <td>0.111463</td>\n",
              "      <td>0.092382</td>\n",
              "      <td>0.111452</td>\n",
              "      <td>0.118723</td>\n",
              "      <td>0.136360</td>\n",
              "      <td>0.161941</td>\n",
              "      <td>0.133937</td>\n",
              "      <td>0.133613</td>\n",
              "      <td>0.150436</td>\n",
              "    </tr>\n",
              "    <tr>\n",
              "      <th>4</th>\n",
              "      <td>0.973378</td>\n",
              "      <td>0.032831</td>\n",
              "      <td>0.024622</td>\n",
              "      <td>0.045623</td>\n",
              "      <td>0.033085</td>\n",
              "      <td>0.030171</td>\n",
              "      <td>0.050540</td>\n",
              "      <td>0.028293</td>\n",
              "      <td>0.023975</td>\n",
              "      <td>0.078837</td>\n",
              "      <td>0.086217</td>\n",
              "      <td>0.026155</td>\n",
              "      <td>0.028540</td>\n",
              "      <td>0.038872</td>\n",
              "      <td>0.038637</td>\n",
              "      <td>0.038301</td>\n",
              "      <td>0.016083</td>\n",
              "      <td>0.042548</td>\n",
              "      <td>0.029914</td>\n",
              "      <td>0.040630</td>\n",
              "      <td>0.035110</td>\n",
              "      <td>0.050472</td>\n",
              "      <td>0.031972</td>\n",
              "      <td>0.019271</td>\n",
              "      <td>0.083253</td>\n",
              "      <td>0.026544</td>\n",
              "      <td>0.049881</td>\n",
              "      <td>0.026706</td>\n",
              "      <td>0.041136</td>\n",
              "      <td>0.029987</td>\n",
              "    </tr>\n",
              "  </tbody>\n",
              "</table>\n",
              "</div>"
            ],
            "text/plain": [
              "      Smoke      Coal     Mines  ...     ElcEq     Carry     Games\n",
              "0  0.034477  0.566601  0.480518  ...  0.092472  0.071129  0.064737\n",
              "1  0.047548  0.093428  0.037397  ...  0.124017  0.098569  0.101823\n",
              "2  0.062181  0.085001  0.112714  ...  0.211474  0.224782  0.227365\n",
              "3  0.105957  0.063587  0.061007  ...  0.133937  0.133613  0.150436\n",
              "4  0.973378  0.032831  0.024622  ...  0.026706  0.041136  0.029987\n",
              "\n",
              "[5 rows x 30 columns]"
            ]
          },
          "metadata": {
            "tags": []
          },
          "execution_count": 22
        }
      ]
    },
    {
      "cell_type": "code",
      "metadata": {
        "id": "o46zbwo6gzLb"
      },
      "source": [
        "nw_stock5 = nw_stock5.reindex([2,3,1,0,4])\n",
        "nw_stock5 = nw_stock5.reset_index()"
      ],
      "execution_count": null,
      "outputs": []
    },
    {
      "cell_type": "code",
      "metadata": {
        "colab": {
          "base_uri": "https://localhost:8080/",
          "height": 172
        },
        "id": "Cjq0i-ExZVHo",
        "outputId": "09a446e5-62d2-4211-853f-bb689d5937f1"
      },
      "source": [
        "fig, ax = plt.subplots(figsize=(10,1.5))         # Sample figsize in inches\n",
        "ax = sns.heatmap(nw_stock5.loc[:, nw_stock5.columns != 'index'], vmin=0, vmax=1, xticklabels=True, yticklabels=True,cmap=\"PiYG\")\n",
        "plt.xticks(rotation=45)\n",
        "plt.ylabel(\"Cluster\")"
      ],
      "execution_count": null,
      "outputs": [
        {
          "output_type": "execute_result",
          "data": {
            "text/plain": [
              "Text(69.0, 0.5, 'Cluster')"
            ]
          },
          "metadata": {
            "tags": []
          },
          "execution_count": 27
        },
        {
          "output_type": "display_data",
          "data": {
            "image/png": "[encoded data removed]",
            "text/plain": [
              "<Figure size 720x108 with 2 Axes>"
            ]
          },
          "metadata": {
            "tags": [],
            "needs_background": "light"
          }
        }
      ]
    },
    {
      "cell_type": "markdown",
      "metadata": {
        "id": "rEcxOm-J9WDr"
      },
      "source": [
        "## k5 stock with K-PC "
      ]
    },
    {
      "cell_type": "code",
      "metadata": {
        "colab": {
          "base_uri": "https://localhost:8080/",
          "height": 224
        },
        "id": "146d78799bSv",
        "outputId": "c13d8dc2-3f4f-4b95-c7d6-bacc6fe8ead2"
      },
      "source": [
        "stock_5_pc = pd.read_csv(\"k5stock_kpc.csv\")\n",
        "del stock_5_pc['Unnamed: 0']\n",
        "stock_5_pc = stock_5_pc[['Smoke','Coal','Mines','Oil','Servs','BusEq','Beer','Hshld','Meals','Food','Hlth','Whlsl','Rtail','Telcm','Other','Chems','Steel','FabPr','Txtls','Clths','Fin','Books','Autos','Cnstr','Util','Trans','Paper','ElcEq','Carry','Games']]"
      ],
      "execution_count": null,
      "outputs": [
        {
          "output_type": "execute_result",
          "data": {
            "text/html": [
              "<div>\n",
              "<style scoped>\n",
              "    .dataframe tbody tr th:only-of-type {\n",
              "        vertical-align: middle;\n",
              "    }\n",
              "\n",
              "    .dataframe tbody tr th {\n",
              "        vertical-align: top;\n",
              "    }\n",
              "\n",
              "    .dataframe thead th {\n",
              "        text-align: right;\n",
              "    }\n",
              "</style>\n",
              "<table border=\"1\" class=\"dataframe\">\n",
              "  <thead>\n",
              "    <tr style=\"text-align: right;\">\n",
              "      <th></th>\n",
              "      <th>Smoke</th>\n",
              "      <th>Coal</th>\n",
              "      <th>Mines</th>\n",
              "      <th>Oil</th>\n",
              "      <th>Servs</th>\n",
              "      <th>BusEq</th>\n",
              "      <th>Beer</th>\n",
              "      <th>Hshld</th>\n",
              "      <th>Meals</th>\n",
              "      <th>Food</th>\n",
              "      <th>Hlth</th>\n",
              "      <th>Whlsl</th>\n",
              "      <th>Rtail</th>\n",
              "      <th>Telcm</th>\n",
              "      <th>Other</th>\n",
              "      <th>Chems</th>\n",
              "      <th>Steel</th>\n",
              "      <th>FabPr</th>\n",
              "      <th>Txtls</th>\n",
              "      <th>Clths</th>\n",
              "      <th>Fin</th>\n",
              "      <th>Books</th>\n",
              "      <th>Autos</th>\n",
              "      <th>Cnstr</th>\n",
              "      <th>Util</th>\n",
              "      <th>Trans</th>\n",
              "      <th>Paper</th>\n",
              "      <th>ElcEq</th>\n",
              "      <th>Carry</th>\n",
              "      <th>Games</th>\n",
              "    </tr>\n",
              "  </thead>\n",
              "  <tbody>\n",
              "    <tr>\n",
              "      <th>0</th>\n",
              "      <td>0.045079</td>\n",
              "      <td>0.086162</td>\n",
              "      <td>0.037517</td>\n",
              "      <td>0.037384</td>\n",
              "      <td>0.476538</td>\n",
              "      <td>0.727335</td>\n",
              "      <td>0.036436</td>\n",
              "      <td>0.048308</td>\n",
              "      <td>0.041204</td>\n",
              "      <td>0.027574</td>\n",
              "      <td>0.085942</td>\n",
              "      <td>0.069045</td>\n",
              "      <td>0.130349</td>\n",
              "      <td>0.244167</td>\n",
              "      <td>0.115234</td>\n",
              "      <td>0.048600</td>\n",
              "      <td>0.172826</td>\n",
              "      <td>0.156059</td>\n",
              "      <td>0.051540</td>\n",
              "      <td>0.076843</td>\n",
              "      <td>0.066330</td>\n",
              "      <td>0.066413</td>\n",
              "      <td>0.086279</td>\n",
              "      <td>0.041450</td>\n",
              "      <td>0.048593</td>\n",
              "      <td>0.047192</td>\n",
              "      <td>0.053533</td>\n",
              "      <td>0.115527</td>\n",
              "      <td>0.093199</td>\n",
              "      <td>0.104254</td>\n",
              "    </tr>\n",
              "    <tr>\n",
              "      <th>1</th>\n",
              "      <td>0.058651</td>\n",
              "      <td>0.091882</td>\n",
              "      <td>0.117075</td>\n",
              "      <td>0.133352</td>\n",
              "      <td>0.121372</td>\n",
              "      <td>0.095074</td>\n",
              "      <td>0.063698</td>\n",
              "      <td>0.097395</td>\n",
              "      <td>0.100474</td>\n",
              "      <td>0.135554</td>\n",
              "      <td>0.103425</td>\n",
              "      <td>0.165553</td>\n",
              "      <td>0.160606</td>\n",
              "      <td>0.169106</td>\n",
              "      <td>0.184418</td>\n",
              "      <td>0.189793</td>\n",
              "      <td>0.180332</td>\n",
              "      <td>0.197235</td>\n",
              "      <td>0.299150</td>\n",
              "      <td>0.247900</td>\n",
              "      <td>0.284540</td>\n",
              "      <td>0.231783</td>\n",
              "      <td>0.238602</td>\n",
              "      <td>0.247107</td>\n",
              "      <td>0.196180</td>\n",
              "      <td>0.219831</td>\n",
              "      <td>0.207361</td>\n",
              "      <td>0.204188</td>\n",
              "      <td>0.199709</td>\n",
              "      <td>0.204657</td>\n",
              "    </tr>\n",
              "    <tr>\n",
              "      <th>2</th>\n",
              "      <td>0.979877</td>\n",
              "      <td>0.028556</td>\n",
              "      <td>0.022489</td>\n",
              "      <td>0.039924</td>\n",
              "      <td>0.027596</td>\n",
              "      <td>0.026029</td>\n",
              "      <td>0.044547</td>\n",
              "      <td>0.027355</td>\n",
              "      <td>0.021972</td>\n",
              "      <td>0.068409</td>\n",
              "      <td>0.070997</td>\n",
              "      <td>0.022372</td>\n",
              "      <td>0.026192</td>\n",
              "      <td>0.035431</td>\n",
              "      <td>0.034800</td>\n",
              "      <td>0.033091</td>\n",
              "      <td>0.015236</td>\n",
              "      <td>0.037348</td>\n",
              "      <td>0.026050</td>\n",
              "      <td>0.030733</td>\n",
              "      <td>0.032741</td>\n",
              "      <td>0.040397</td>\n",
              "      <td>0.029083</td>\n",
              "      <td>0.017981</td>\n",
              "      <td>0.074135</td>\n",
              "      <td>0.024606</td>\n",
              "      <td>0.042059</td>\n",
              "      <td>0.025277</td>\n",
              "      <td>0.038332</td>\n",
              "      <td>0.026484</td>\n",
              "    </tr>\n",
              "    <tr>\n",
              "      <th>3</th>\n",
              "      <td>0.108620</td>\n",
              "      <td>0.060975</td>\n",
              "      <td>0.061021</td>\n",
              "      <td>0.101991</td>\n",
              "      <td>0.156412</td>\n",
              "      <td>0.110130</td>\n",
              "      <td>0.390915</td>\n",
              "      <td>0.333402</td>\n",
              "      <td>0.363859</td>\n",
              "      <td>0.267830</td>\n",
              "      <td>0.293201</td>\n",
              "      <td>0.222309</td>\n",
              "      <td>0.219741</td>\n",
              "      <td>0.109810</td>\n",
              "      <td>0.162897</td>\n",
              "      <td>0.129875</td>\n",
              "      <td>0.080414</td>\n",
              "      <td>0.112057</td>\n",
              "      <td>0.087588</td>\n",
              "      <td>0.130199</td>\n",
              "      <td>0.105695</td>\n",
              "      <td>0.122115</td>\n",
              "      <td>0.096489</td>\n",
              "      <td>0.119739</td>\n",
              "      <td>0.123682</td>\n",
              "      <td>0.144540</td>\n",
              "      <td>0.174399</td>\n",
              "      <td>0.139438</td>\n",
              "      <td>0.147452</td>\n",
              "      <td>0.159263</td>\n",
              "    </tr>\n",
              "    <tr>\n",
              "      <th>4</th>\n",
              "      <td>0.034957</td>\n",
              "      <td>0.550189</td>\n",
              "      <td>0.478271</td>\n",
              "      <td>0.401744</td>\n",
              "      <td>0.062565</td>\n",
              "      <td>0.060078</td>\n",
              "      <td>0.038761</td>\n",
              "      <td>0.047742</td>\n",
              "      <td>0.043564</td>\n",
              "      <td>0.071152</td>\n",
              "      <td>0.053582</td>\n",
              "      <td>0.085383</td>\n",
              "      <td>0.061532</td>\n",
              "      <td>0.068215</td>\n",
              "      <td>0.063546</td>\n",
              "      <td>0.207356</td>\n",
              "      <td>0.226183</td>\n",
              "      <td>0.180826</td>\n",
              "      <td>0.077600</td>\n",
              "      <td>0.072213</td>\n",
              "      <td>0.105950</td>\n",
              "      <td>0.095087</td>\n",
              "      <td>0.115025</td>\n",
              "      <td>0.179829</td>\n",
              "      <td>0.152935</td>\n",
              "      <td>0.100924</td>\n",
              "      <td>0.089278</td>\n",
              "      <td>0.098877</td>\n",
              "      <td>0.072443</td>\n",
              "      <td>0.067298</td>\n",
              "    </tr>\n",
              "  </tbody>\n",
              "</table>\n",
              "</div>"
            ],
            "text/plain": [
              "      Smoke      Coal     Mines  ...     ElcEq     Carry     Games\n",
              "0  0.045079  0.086162  0.037517  ...  0.115527  0.093199  0.104254\n",
              "1  0.058651  0.091882  0.117075  ...  0.204188  0.199709  0.204657\n",
              "2  0.979877  0.028556  0.022489  ...  0.025277  0.038332  0.026484\n",
              "3  0.108620  0.060975  0.061021  ...  0.139438  0.147452  0.159263\n",
              "4  0.034957  0.550189  0.478271  ...  0.098877  0.072443  0.067298\n",
              "\n",
              "[5 rows x 30 columns]"
            ]
          },
          "metadata": {
            "tags": []
          },
          "execution_count": 16
        }
      ]
    },
    {
      "cell_type": "code",
      "metadata": {
        "id": "u4P0he9Y9vkN"
      },
      "source": [
        "nw_stock5_pc = stock_5_pc"
      ],
      "execution_count": null,
      "outputs": []
    },
    {
      "cell_type": "code",
      "metadata": {
        "id": "oW7oX4AX90iK"
      },
      "source": [
        "nw_stock5_pc = nw_stock5_pc.reindex([1,3,0,4,2])\n",
        "nw_stock5_pc = nw_stock5_pc.reset_index()"
      ],
      "execution_count": null,
      "outputs": []
    },
    {
      "cell_type": "code",
      "metadata": {
        "colab": {
          "base_uri": "https://localhost:8080/",
          "height": 200
        },
        "id": "TxZ8BjZn929u",
        "outputId": "d7987dfd-2563-4daf-86d4-3cecf687972e"
      },
      "source": [
        "fig, ax = plt.subplots(figsize=(12,2))         # Sample figsize in inches\n",
        "ax = sns.heatmap(nw_stock5_pc.loc[:, nw_stock5_pc.columns != 'index'], vmin=0, vmax=1, xticklabels=True, yticklabels=True,cmap=\"PiYG\")\n",
        "plt.xticks(rotation=45)\n",
        "plt.ylabel(\"Cluster\")"
      ],
      "execution_count": null,
      "outputs": [
        {
          "output_type": "execute_result",
          "data": {
            "text/plain": [
              "Text(87.0, 0.5, 'Cluster')"
            ]
          },
          "metadata": {
            "tags": []
          },
          "execution_count": 20
        },
        {
          "output_type": "display_data",
          "data": {
            "image/png": "[encoded data removed]",
            "text/plain": [
              "<Figure size 864x144 with 2 Axes>"
            ]
          },
          "metadata": {
            "tags": [],
            "needs_background": "light"
          }
        }
      ]
    },
    {
      "cell_type": "markdown",
      "metadata": {
        "id": "qnMC3AxlcrJW"
      },
      "source": [
        "## k10 stock\n",
        "\n",
        "![Capture.PNG](data:image/png;base64,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)"
      ]
    },
    {
      "cell_type": "code",
      "metadata": {
        "id": "V278F-LActNC"
      },
      "source": [
        "stock_10 = pd.read_csv(\"k10stock.csv\")\n",
        "del stock_10['Unnamed: 0']\n",
        "stock_10 = stock_10[['Smoke','Beer','Meals','Whlsl','Carry','Other','Food','Rtail','Hshld','Hlth','Coal','Mines','Oil','BusEq','Servs','Util','Telcm','Chems','Steel','FabPr','Txtls','Clths','Cnstr','Autos','Fin','Paper','Trans','ElcEq','Books','Games']]"
      ],
      "execution_count": null,
      "outputs": []
    },
    {
      "cell_type": "code",
      "metadata": {
        "id": "7QcblYJKdz3e"
      },
      "source": [
        "nw_stock10 = stock_10"
      ],
      "execution_count": null,
      "outputs": []
    },
    {
      "cell_type": "code",
      "metadata": {
        "id": "W04NxZWChEwX"
      },
      "source": [
        "nw_stock10 = nw_stock10.reindex([8,2,5,0,6,9,7,1,4,3])\n",
        "nw_stock10 = nw_stock10.reset_index()"
      ],
      "execution_count": null,
      "outputs": []
    },
    {
      "cell_type": "code",
      "metadata": {
        "colab": {
          "base_uri": "https://localhost:8080/",
          "height": 255
        },
        "id": "vPtQqwWOd4M_",
        "outputId": "d76682cb-12a3-47ec-ce3b-bc70a27fb47f"
      },
      "source": [
        "fig, ax = plt.subplots(figsize=(10,3))         # Sample figsize in inches\n",
        "ax = sns.heatmap(nw_stock10.loc[:, nw_stock10.columns != 'index'], vmin=0, vmax=1, xticklabels=True, yticklabels=True,cmap=\"PiYG\")\n",
        "plt.xticks(rotation=45)\n",
        "plt.ylabel(\"Cluster\")"
      ],
      "execution_count": null,
      "outputs": [
        {
          "output_type": "execute_result",
          "data": {
            "text/plain": [
              "Text(69.0, 0.5, 'Cluster')"
            ]
          },
          "metadata": {
            "tags": []
          },
          "execution_count": 32
        },
        {
          "output_type": "display_data",
          "data": {
            "image/png": "[encoded data removed]",
            "text/plain": [
              "<Figure size 720x216 with 2 Axes>"
            ]
          },
          "metadata": {
            "tags": [],
            "needs_background": "light"
          }
        }
      ]
    },
    {
      "cell_type": "markdown",
      "metadata": {
        "id": "Kpl8zkv--rKv"
      },
      "source": [
        "## k10 stock with KPC"
      ]
    },
    {
      "cell_type": "code",
      "metadata": {
        "id": "zfkgh2eE-tc1"
      },
      "source": [
        "stock_10_pc = pd.read_csv(\"k10stock_kpc.csv\")\n",
        "stock_10_pc = stock_10_pc[['Smoke','Beer','Meals','Whlsl','Carry','Other','Food','Rtail','Hshld','Hlth','Coal','Mines','Oil','BusEq','Servs','Util','Telcm','Chems','Steel','FabPr','Txtls','Clths','Cnstr','Autos','Fin','Paper','Trans','ElcEq','Books','Games']]\n",
        "nw_stock10_pc = stock_10_pc"
      ],
      "execution_count": null,
      "outputs": []
    },
    {
      "cell_type": "code",
      "metadata": {
        "id": "V92ihFy2-5LA"
      },
      "source": [
        "nw_stock10_pc = nw_stock10_pc.reindex([1,0,4,9,5,2,3,6,7,8])\n",
        "nw_stock10_pc = nw_stock10_pc.reset_index()"
      ],
      "execution_count": null,
      "outputs": []
    },
    {
      "cell_type": "code",
      "metadata": {
        "colab": {
          "base_uri": "https://localhost:8080/",
          "height": 308
        },
        "id": "EH-M-klq_EP3",
        "outputId": "72c17cdd-aad1-4dba-94ab-2b26e5bc5066"
      },
      "source": [
        "fig, ax = plt.subplots(figsize=(12,4))         # Sample figsize in inches\n",
        "ax = sns.heatmap(nw_stock10_pc.loc[:, nw_stock10_pc.columns != 'index'], vmin=0, vmax=1, xticklabels=True, yticklabels=True,cmap=\"PiYG\")\n",
        "plt.xticks(rotation=45)\n",
        "plt.ylabel(\"Cluster\")"
      ],
      "execution_count": null,
      "outputs": [
        {
          "output_type": "execute_result",
          "data": {
            "text/plain": [
              "Text(87.0, 0.5, 'Cluster')"
            ]
          },
          "metadata": {
            "tags": []
          },
          "execution_count": 37
        },
        {
          "output_type": "display_data",
          "data": {
            "image/png": "[encoded data removed]",
            "text/plain": [
              "<Figure size 864x288 with 2 Axes>"
            ]
          },
          "metadata": {
            "tags": [],
            "needs_background": "light"
          }
        }
      ]
    },
    {
      "cell_type": "markdown",
      "metadata": {
        "id": "mnIwdW8heXjT"
      },
      "source": [
        "## k15 Food\n",
        "\n",
        "![Capture2.PNG](data:image/png;base64,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)"
      ]
    },
    {
      "cell_type": "code",
      "metadata": {
        "id": "rp4MEWrUepiJ"
      },
      "source": [
        "food_15 = pd.read_csv(\"k15food.csv\")\n",
        "del food_15['Unnamed: 0']\n",
        "food_15 = food_15[['Beta_Crypt','Lycopene','Lutein','VitaminK','Alpha_Car','Beta_Car','VitaminB6','VitaminB12','Niacin','VitaminB2','Folate','Folic_acid','Zinc','VitaminB1','Iron','VitaminD','Calcium','Retinol','VitaminE','VitaminA','VitaminC','Carbs','Sugar','Choline','Cholesterol','Fiber','Magnesium','Copper','Selecnium','Protein','Phosphor','Potassium','Polu_unsat_fat','Calories','Sat_fat','Mono_unsat_fat','Fat','Sodium']]"
      ],
      "execution_count": null,
      "outputs": []
    },
    {
      "cell_type": "code",
      "metadata": {
        "id": "QaJoFk7Ufbdi"
      },
      "source": [
        "nw_food15 = food_15"
      ],
      "execution_count": null,
      "outputs": []
    },
    {
      "cell_type": "code",
      "metadata": {
        "id": "8Q4oqRtwitTl"
      },
      "source": [
        "nw_food15 = nw_food15.reindex([1,12,3,9,8,6,0,7,11,4,5,2,14,10,13])\n",
        "nw_food15 = nw_food15.reset_index()"
      ],
      "execution_count": null,
      "outputs": []
    },
    {
      "cell_type": "code",
      "metadata": {
        "id": "gD_vtsVmg10I",
        "colab": {
          "base_uri": "https://localhost:8080/",
          "height": 302
        },
        "outputId": "30b8bc53-9a4d-4341-d39d-db0993486361"
      },
      "source": [
        "fig, ax = plt.subplots(figsize=(10,3))         # Sample figsize in inches\n",
        "ax = sns.heatmap(nw_food15.loc[:, nw_food15.columns != 'index'], vmin=0, vmax=1, xticklabels=True, yticklabels=True,cmap=\"PiYG\")\n",
        "plt.ylabel(\"Cluster\")"
      ],
      "execution_count": null,
      "outputs": [
        {
          "output_type": "execute_result",
          "data": {
            "text/plain": [
              "Text(69.0, 0.5, 'Cluster')"
            ]
          },
          "metadata": {
            "tags": []
          },
          "execution_count": 17
        },
        {
          "output_type": "display_data",
          "data": {
            "image/png": "[encoded data removed]",
            "text/plain": [
              "<Figure size 720x216 with 2 Axes>"
            ]
          },
          "metadata": {
            "tags": [],
            "needs_background": "light"
          }
        }
      ]
    },
    {
      "cell_type": "markdown",
      "metadata": {
        "id": "6cHwyrj0V7eC"
      },
      "source": [
        "## k15food_kpc "
      ]
    },
    {
      "cell_type": "code",
      "metadata": {
        "id": "eINIdu4PV-zm"
      },
      "source": [
        "food_15_pc = pd.read_csv(\"k15food_kpc.csv\")\n",
        "food_15_pc = food_15_pc[['Beta_Crypt','Lycopene','Lutein','VitaminK','Alpha_Car','Beta_Car','VitaminB6','VitaminB12','Niacin','VitaminB2','Folate','Folic_acid','Zinc','VitaminB1','Iron','VitaminD','Calcium','Retinol','VitaminE','VitaminA','VitaminC','Carbs','Sugar','Choline','Cholesterol','Fiber','Magnesium','Copper','Selecnium','Protein','Phosphor','Potassium','Polu_unsat_fat','Calories','Sat_fat','Mono_unsat_fat','Fat','Sodium']]\n",
        "nw_food15_pc = food_15_pc"
      ],
      "execution_count": null,
      "outputs": []
    },
    {
      "cell_type": "code",
      "metadata": {
        "id": "QwNHPz_tWLd-"
      },
      "source": [
        "nw_food15_pc = nw_food15_pc.reindex([4,1,12,5,10,9,11,3,14,13,8,7,2,6,0])\n",
        "nw_food15_pc = nw_food15_pc.reset_index()"
      ],
      "execution_count": null,
      "outputs": []
    },
    {
      "cell_type": "code",
      "metadata": {
        "colab": {
          "base_uri": "https://localhost:8080/",
          "height": 302
        },
        "id": "8gQ3m7PrWKq5",
        "outputId": "83cb1771-5cc2-4582-bee4-f61a6ad5a421"
      },
      "source": [
        "fig, ax = plt.subplots(figsize=(10,3))         # Sample figsize in inches\n",
        "ax = sns.heatmap(nw_food15_pc.loc[:, nw_food15_pc.columns != 'index'], vmin=0, vmax=1, xticklabels=True, yticklabels=True,cmap=\"PiYG\")\n",
        "plt.ylabel(\"Cluster\")"
      ],
      "execution_count": null,
      "outputs": [
        {
          "output_type": "execute_result",
          "data": {
            "text/plain": [
              "Text(69.0, 0.5, 'Cluster')"
            ]
          },
          "metadata": {
            "tags": []
          },
          "execution_count": 5
        },
        {
          "output_type": "display_data",
          "data": {
            "image/png": "[encoded data removed]",
            "text/plain": [
              "<Figure size 720x216 with 2 Axes>"
            ]
          },
          "metadata": {
            "tags": [],
            "needs_background": "light"
          }
        }
      ]
    },
    {
      "cell_type": "markdown",
      "metadata": {
        "id": "0mgkXMVjlZBy"
      },
      "source": [
        "##k20_Food\n",
        "\n",
        "![image.png](data:image/png;base64,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)"
      ]
    },
    {
      "cell_type": "code",
      "metadata": {
        "id": "dz1z-Inzlbc-"
      },
      "source": [
        "food_20 = pd.read_csv(\"k20food.csv\")\n",
        "del food_20['Unnamed: 0']\n",
        "food_20 = food_20[['Alpha_Car','Beta_Car','Fiber','Lutein','VitaminK','Polu_unsat_fat','Sodium','Sat_fat','Calories','Fat','Mono_unsat_fat','Cholesterol','Choline','Phosphor','Zinc','Protein','Potassium','Selecnium','Beta_Crypt','Lycopene','VitaminD','Calcium','VitaminC','Sugar','Carbs','Magnesium','Copper','Retinol','VitaminE','VitaminA','VitaminB12','VitaminB6','Niacin','VitaminB2','Folic_acid','Folate','Iron','VitaminB1']]"
      ],
      "execution_count": null,
      "outputs": []
    },
    {
      "cell_type": "code",
      "metadata": {
        "id": "xp6jzjOLoK_s"
      },
      "source": [
        "nw_food20 = food_20"
      ],
      "execution_count": null,
      "outputs": []
    },
    {
      "cell_type": "code",
      "metadata": {
        "id": "YBnQXSi4ocH8"
      },
      "source": [
        "nw_food20 = nw_food20.reindex([2,13,12,9,6,7,14,1,5,10,3,11,18,4,0,15,16,17,19,8])\n",
        "nw_food20 = nw_food20.reset_index()"
      ],
      "execution_count": null,
      "outputs": []
    },
    {
      "cell_type": "code",
      "metadata": {
        "colab": {
          "base_uri": "https://localhost:8080/",
          "height": 329
        },
        "id": "JUWUavfjoOrO",
        "outputId": "27fb2978-3e9f-44d8-cbbd-c58d922323d7"
      },
      "source": [
        "fig, ax = plt.subplots(figsize=(10,3.5))         # Sample figsize in inches\n",
        "ax = sns.heatmap(nw_food20.loc[:, nw_food20.columns != 'index'], vmin=0, vmax=1, xticklabels=True, yticklabels=True,cmap=\"PiYG\")\n",
        "plt.ylabel(\"Cluster\")"
      ],
      "execution_count": null,
      "outputs": [
        {
          "output_type": "execute_result",
          "data": {
            "text/plain": [
              "Text(69.0, 0.5, 'Cluster')"
            ]
          },
          "metadata": {
            "tags": []
          },
          "execution_count": 20
        },
        {
          "output_type": "display_data",
          "data": {
            "image/png": "[encoded data removed]",
            "text/plain": [
              "<Figure size 720x252 with 2 Axes>"
            ]
          },
          "metadata": {
            "tags": [],
            "needs_background": "light"
          }
        }
      ]
    },
    {
      "cell_type": "markdown",
      "metadata": {
        "id": "SFOcwXYirVjd"
      },
      "source": [
        "## k20 food + kpc"
      ]
    },
    {
      "cell_type": "code",
      "metadata": {
        "id": "BdJU3glGrY-V"
      },
      "source": [
        "food_20_pc = pd.read_csv(\"k20food_kpc.csv\")\n",
        "food_20_pc = food_20_pc[['Alpha_Car','Beta_Car','Fiber','Lutein','VitaminK','Polu_unsat_fat','Sodium','Sat_fat','Calories','Fat','Mono_unsat_fat','Cholesterol','Choline','Phosphor','Zinc','Protein','Potassium','Selecnium','Beta_Crypt','Lycopene','VitaminD','Calcium','VitaminC','Sugar','Carbs','Magnesium','Copper','Retinol','VitaminE','VitaminA','VitaminB12','VitaminB6','Niacin','VitaminB2','Folic_acid','Folate','Iron','VitaminB1']]\n",
        "nw_food20_pc = food_20_pc"
      ],
      "execution_count": null,
      "outputs": []
    },
    {
      "cell_type": "code",
      "metadata": {
        "id": "WEza887NrgGR"
      },
      "source": [
        "nw_food20_pc = nw_food20_pc.reindex([8,2,9,19,12,17,10,13,16,15,6,3,18,14,0,11,4,1,7,5])\n",
        "nw_food20_pc = nw_food20_pc.reset_index()"
      ],
      "execution_count": null,
      "outputs": []
    },
    {
      "cell_type": "code",
      "metadata": {
        "colab": {
          "base_uri": "https://localhost:8080/",
          "height": 356
        },
        "id": "FDQd-h69rhd3",
        "outputId": "93691bf0-4611-4dd4-84da-4ed4a14e10d5"
      },
      "source": [
        "fig, ax = plt.subplots(figsize=(10,4))         # Sample figsize in inches\n",
        "ax = sns.heatmap(nw_food20_pc.loc[:, nw_food20_pc.columns != 'index'], vmin=0, vmax=1, xticklabels=True, yticklabels=True,cmap=\"PiYG\")\n",
        "plt.ylabel(\"Cluster\")"
      ],
      "execution_count": null,
      "outputs": [
        {
          "output_type": "execute_result",
          "data": {
            "text/plain": [
              "Text(69.0, 0.5, 'Cluster')"
            ]
          },
          "metadata": {
            "tags": []
          },
          "execution_count": 11
        },
        {
          "output_type": "display_data",
          "data": {
            "image/png": "[encoded data removed]",
            "text/plain": [
              "<Figure size 720x288 with 2 Axes>"
            ]
          },
          "metadata": {
            "tags": [],
            "needs_background": "light"
          }
        }
      ]
    },
    {
      "cell_type": "markdown",
      "metadata": {
        "id": "NPMmT3V6g4Kd"
      },
      "source": [
        "# Time crossing plot"
      ]
    },
    {
      "cell_type": "markdown",
      "metadata": {
        "id": "JSujGZRu2K0A"
      },
      "source": [
        "## Stock"
      ]
    },
    {
      "cell_type": "code",
      "metadata": {
        "id": "6dFeKXFAg6rP"
      },
      "source": [
        "dft = pd.read_csv('extremal_stock.csv')\n",
        "dft['Date'] = pd.to_datetime(dft['date'].astype(str), format='%Y%m%d')\n",
        "# dfc5 = pd.read_csv('k5stock_cluster.csv')\n",
        "dfc10 = pd.read_csv('k10stock_cluster_Done.csv')\n"
      ],
      "execution_count": null,
      "outputs": []
    },
    {
      "cell_type": "code",
      "metadata": {
        "colab": {
          "base_uri": "https://localhost:8080/"
        },
        "id": "75dGb-AUxa-s",
        "outputId": "3e7265f8-2428-46b7-894a-70da3fe2b4f6"
      },
      "source": [
        "# df5 = dft[['Unnamed: 0','Date']]\n",
        "# df5['cluster'] = dfc5['original clu']\n",
        "df10 = dft[['Unnamed: 0','Date']]\n",
        "df10['cluster'] = dfc10['original clu']"
      ],
      "execution_count": null,
      "outputs": [
        {
          "output_type": "stream",
          "text": [
            "/usr/local/lib/python3.7/dist-packages/ipykernel_launcher.py:4: SettingWithCopyWarning: \n",
            "A value is trying to be set on a copy of a slice from a DataFrame.\n",
            "Try using .loc[row_indexer,col_indexer] = value instead\n",
            "\n",
            "See the caveats in the documentation: https://pandas.pydata.org/pandas-docs/stable/user_guide/indexing.html#returning-a-view-versus-a-copy\n",
            "  after removing the cwd from sys.path.\n"
          ],
          "name": "stderr"
        }
      ]
    },
    {
      "cell_type": "code",
      "metadata": {
        "id": "99a9bkZLyLD3"
      },
      "source": [
        "# del df5['Unnamed: 0']\n",
        "del df10['Unnamed: 0']"
      ],
      "execution_count": null,
      "outputs": []
    },
    {
      "cell_type": "code",
      "metadata": {
        "colab": {
          "base_uri": "https://localhost:8080/",
          "height": 76
        },
        "id": "NGMlknarOMPr",
        "outputId": "4c650bc1-844b-493f-ebd1-5edb61b756b3"
      },
      "source": [
        "df10.head(1)"
      ],
      "execution_count": null,
      "outputs": [
        {
          "output_type": "execute_result",
          "data": {
            "text/html": [
              "<div>\n",
              "<style scoped>\n",
              "    .dataframe tbody tr th:only-of-type {\n",
              "        vertical-align: middle;\n",
              "    }\n",
              "\n",
              "    .dataframe tbody tr th {\n",
              "        vertical-align: top;\n",
              "    }\n",
              "\n",
              "    .dataframe thead th {\n",
              "        text-align: right;\n",
              "    }\n",
              "</style>\n",
              "<table border=\"1\" class=\"dataframe\">\n",
              "  <thead>\n",
              "    <tr style=\"text-align: right;\">\n",
              "      <th></th>\n",
              "      <th>Date</th>\n",
              "      <th>cluster</th>\n",
              "    </tr>\n",
              "  </thead>\n",
              "  <tbody>\n",
              "    <tr>\n",
              "      <th>0</th>\n",
              "      <td>1950-01-12</td>\n",
              "      <td>1</td>\n",
              "    </tr>\n",
              "  </tbody>\n",
              "</table>\n",
              "</div>"
            ],
            "text/plain": [
              "        Date  cluster\n",
              "0 1950-01-12        1"
            ]
          },
          "metadata": {
            "tags": []
          },
          "execution_count": 66
        }
      ]
    },
    {
      "cell_type": "code",
      "metadata": {
        "colab": {
          "base_uri": "https://localhost:8080/"
        },
        "id": "YIo9AhFROA5z",
        "outputId": "674699a4-646b-4652-e57d-c2278500350c"
      },
      "source": [
        "df5['cluster'] = df5['cluster'].replace({1:2,2:1,4:3,3:4})"
      ],
      "execution_count": null,
      "outputs": [
        {
          "output_type": "stream",
          "text": [
            "/usr/local/lib/python3.7/dist-packages/ipykernel_launcher.py:1: SettingWithCopyWarning: \n",
            "A value is trying to be set on a copy of a slice from a DataFrame.\n",
            "Try using .loc[row_indexer,col_indexer] = value instead\n",
            "\n",
            "See the caveats in the documentation: https://pandas.pydata.org/pandas-docs/stable/user_guide/indexing.html#returning-a-view-versus-a-copy\n",
            "  \"\"\"Entry point for launching an IPython kernel.\n"
          ],
          "name": "stderr"
        }
      ]
    },
    {
      "cell_type": "code",
      "metadata": {
        "colab": {
          "base_uri": "https://localhost:8080/",
          "height": 188
        },
        "id": "DWWoJZ-62IaK",
        "outputId": "fc14d8eb-7bfb-4f8a-f388-1b468e2e919a"
      },
      "source": [
        "fig, ax = plt.subplots(figsize=(12,2))\n",
        "ax.plot(df5['Date'],df5['cluster'],'r+')\n",
        "ax.set_ylabel('Cluster')\n",
        "ax.set_xlabel('Date')\n",
        "\n",
        "# Turn off tick labels\n",
        "ax.set_yticklabels([])"
      ],
      "execution_count": null,
      "outputs": [
        {
          "output_type": "execute_result",
          "data": {
            "text/plain": [
              "[]"
            ]
          },
          "metadata": {
            "tags": []
          },
          "execution_count": 101
        },
        {
          "output_type": "display_data",
          "data": {
            "image/png": "[encoded data removed]",
            "text/plain": [
              "<Figure size 864x144 with 1 Axes>"
            ]
          },
          "metadata": {
            "tags": [],
            "needs_background": "light"
          }
        }
      ]
    },
    {
      "cell_type": "code",
      "metadata": {
        "id": "SnksAVQv7i42"
      },
      "source": [
        "# nw_stock10 = nw_stock10.reindex([7,6,3,5,1,4,0,2,9,8])\n",
        "# nw_stock10 = nw_stock10.reset_index()"
      ],
      "execution_count": null,
      "outputs": []
    },
    {
      "cell_type": "code",
      "metadata": {
        "colab": {
          "base_uri": "https://localhost:8080/",
          "height": 243
        },
        "id": "VQYEucw34mag",
        "outputId": "abbf74f3-5f1e-4308-9e20-5fe36fe7dc87"
      },
      "source": [
        "\n",
        "fig, ax = plt.subplots(figsize=(12,3))\n",
        "ax.plot(df10['Date'],df10['cluster'],'r+')\n",
        "ax.set_ylabel('Cluster')\n",
        "ax.set_xlabel('Date')\n",
        "\n",
        "# Turn off tick labels\n",
        "ax.set_yticklabels([])\n"
      ],
      "execution_count": null,
      "outputs": [
        {
          "output_type": "execute_result",
          "data": {
            "text/plain": [
              "[]"
            ]
          },
          "metadata": {
            "tags": []
          },
          "execution_count": 67
        },
        {
          "output_type": "display_data",
          "data": {
            "image/png": "[encoded data removed]",
            "text/plain": [
              "<Figure size 864x216 with 1 Axes>"
            ]
          },
          "metadata": {
            "tags": [],
            "needs_background": "light"
          }
        }
      ]
    },
    {
      "cell_type": "markdown",
      "metadata": {
        "id": "dw8euWuzMFBu"
      },
      "source": [
        "# Elbow Plot_KMEANS"
      ]
    },
    {
      "cell_type": "code",
      "metadata": {
        "id": "d_ibMmBjMGpx"
      },
      "source": [
        "elbow1 = [355.175545867367,\n",
        "323.763714394857,\n",
        "299.562780070732,\n",
        "277.33189976147,\n",
        "260.031335518917,\n",
        "244.797299468381,\n",
        "232.709329330983,\n",
        "221.642630919417,\n",
        "210.967519396748,\n",
        "201.734459641978,\n",
        "194.21816618477,\n",
        "186.210264414733,\n",
        "179.360150073193,\n",
        "171.514411813563,\n",
        "164.636427847165,\n",
        "157.943921478712,\n",
        "152.896597122229,\n",
        "147.107454234565,\n",
        "141.634395325813,\n",
        "135.727918785423,\n",
        "130.806912601534,\n",
        "126.138971051969,\n",
        "123.108130435327,\n",
        "118.659205211351,\n",
        "115.602696711619,\n",
        "112.9029593853,\n",
        "110.719681841387,\n",
        "108.126032836265,\n",
        "106.272002546913]"
      ],
      "execution_count": null,
      "outputs": []
    },
    {
      "cell_type": "code",
      "metadata": {
        "id": "dLyXiv02W8Gl"
      },
      "source": [
        "elbow2 = [238.660525263247,\n",
        "216.39102316405,\n",
        "196.571924611403,\n",
        "182.37957146789,\n",
        "170.388870032591,\n",
        "157.694996765568,\n",
        "145.981481078384,\n",
        "135.412392093759,\n",
        "125.772531855792,\n",
        "115.534412616947,\n",
        "107.872156675357,\n",
        "100.777257743318,\n",
        "92.1683247499329,\n",
        "86.1260747573003,\n",
        "81.0638454763303,\n",
        "76.2944117853807,\n",
        "70.7321706452466,\n",
        "66.755081946414,\n",
        "63.578805413326,\n",
        "59.2388237072728,\n",
        "56.7717381036599,\n",
        "53.1696484603277,\n",
        "50.6673424881236,\n",
        "48.4183307655128,\n",
        "46.7676360687354,\n",
        "43.7572574332409,\n",
        "42.5395635440169,\n",
        "40.9012111151984,\n",
        "39.8680927760266]"
      ],
      "execution_count": null,
      "outputs": []
    },
    {
      "cell_type": "code",
      "metadata": {
        "id": "gn_uk0GEMb-m"
      },
      "source": [
        "x = list(range(29))\n",
        "x = [i+2 for i in x]"
      ],
      "execution_count": null,
      "outputs": []
    },
    {
      "cell_type": "code",
      "metadata": {
        "colab": {
          "base_uri": "https://localhost:8080/",
          "height": 211
        },
        "id": "FgxP2QJpM-Ld",
        "outputId": "522980a8-a385-4c6f-d5a7-3ab624c9f7f7"
      },
      "source": [
        "fig, ax = plt.subplots(figsize=(8,3))\n",
        "ax = plt.plot(x,elbow1,'o')"
      ],
      "execution_count": null,
      "outputs": [
        {
          "output_type": "display_data",
          "data": {
            "image/png": "[encoded data removed]",
            "text/plain": [
              "<Figure size 576x216 with 1 Axes>"
            ]
          },
          "metadata": {
            "tags": [],
            "needs_background": "light"
          }
        }
      ]
    },
    {
      "cell_type": "code",
      "metadata": {
        "colab": {
          "base_uri": "https://localhost:8080/",
          "height": 211
        },
        "id": "yE3l146wXHV0",
        "outputId": "adc871cc-43eb-480f-c929-f7fd83878798"
      },
      "source": [
        "fig, ax = plt.subplots(figsize=(8,3))\n",
        "ax = plt.plot(x,elbow2,'o')"
      ],
      "execution_count": null,
      "outputs": [
        {
          "output_type": "display_data",
          "data": {
            "image/png": "[encoded data removed]",
            "text/plain": [
              "<Figure size 576x216 with 1 Axes>"
            ]
          },
          "metadata": {
            "tags": [],
            "needs_background": "light"
          }
        }
      ]
    },
    {
      "cell_type": "markdown",
      "metadata": {
        "id": "mENr768PODdg"
      },
      "source": [
        "#elbow_KPC"
      ]
    },
    {
      "cell_type": "code",
      "metadata": {
        "id": "B1mbyeXrv9eU"
      },
      "source": [
        "elbow_stock_pc=[\n",
        "0.577336795132171,\n",
        "0.616014675569792,\n",
        "0.644256565734176,\n",
        "0.670583761814136,\n",
        "0.690545049672685,\n",
        "0.708101886085946,\n",
        "0.722039734797052,\n",
        "0.735219832941251,\n",
        "0.746525198029807,\n",
        "0.758298159029107,\n",
        "0.767704787431297,\n",
        "0.776848079900444,\n",
        "0.784921672622786,\n",
        "0.793577113927912,\n",
        "0.802385161872805,\n",
        "0.808837781201125,\n",
        "0.816329584841723,\n",
        "0.82442647657463,\n",
        "0.830293201978121,\n",
        "0.837076987490264,\n",
        "0.841986152772012,\n",
        "0.845688098544166,\n",
        "0.851940169461845,\n",
        "0.857714836506831,\n",
        "0.858737966062848,\n",
        "0.864143981701706,\n",
        "0.864499570229094,\n",
        "0.867939011072481,\n",
        "0.869846292750277]"
      ],
      "execution_count": null,
      "outputs": []
    },
    {
      "cell_type": "code",
      "metadata": {
        "id": "QXZ3BZghwAmk"
      },
      "source": [
        "elbow_food_pc=[\n",
        "0.425373191576351,\n",
        "0.478637438413195,\n",
        "0.532803844902243,\n",
        "0.564359950749663,\n",
        "0.595813950236502,\n",
        "0.626859250020167,\n",
        "0.653667944363482,\n",
        "0.678256118018822,\n",
        "0.70111727590643,\n",
        "0.720634014335666,\n",
        "0.742344893313852,\n",
        "0.760495382637888,\n",
        "0.781091205170152,\n",
        "0.794370866741788,\n",
        "0.80762211969127,\n",
        "0.817411879304092,\n",
        "0.8275376638396,\n",
        "0.839658225615824,\n",
        "0.849645777502652,\n",
        "0.856238279138206,\n",
        "0.866871342736434,\n",
        "0.8752029397939,\n",
        "0.878769402237009,\n",
        "0.883792100019695,\n",
        "0.888480228979179,\n",
        "0.894428051189486,\n",
        "0.895613207127437,\n",
        "0.898881846019393,\n",
        "0.901490824498085]"
      ],
      "execution_count": null,
      "outputs": []
    },
    {
      "cell_type": "code",
      "metadata": {
        "colab": {
          "base_uri": "https://localhost:8080/",
          "height": 211
        },
        "id": "0NbjpR1s_E_k",
        "outputId": "75d7157b-fffc-4ebe-85d2-e8be9ecf3a5b"
      },
      "source": [
        "fig, ax = plt.subplots(figsize=(8,3))\n",
        "ax = plt.plot(x,elbow_stock_pc,'o') "
      ],
      "execution_count": null,
      "outputs": [
        {
          "output_type": "display_data",
          "data": {
            "image/png": "[encoded data removed]",
            "text/plain": [
              "<Figure size 576x216 with 1 Axes>"
            ]
          },
          "metadata": {
            "tags": [],
            "needs_background": "light"
          }
        }
      ]
    },
    {
      "cell_type": "code",
      "metadata": {
        "colab": {
          "base_uri": "https://localhost:8080/",
          "height": 211
        },
        "id": "f2yCsCcS_MgI",
        "outputId": "1a54394c-143d-4b58-e407-7a807e2a04d5"
      },
      "source": [
        "fig, ax = plt.subplots(figsize=(8,3))\n",
        "ax = plt.plot(x,elbow_food_pc,'o') "
      ],
      "execution_count": null,
      "outputs": [
        {
          "output_type": "display_data",
          "data": {
            "image/png": "[encoded data removed]",
            "text/plain": [
              "<Figure size 576x216 with 1 Axes>"
            ]
          },
          "metadata": {
            "tags": [],
            "needs_background": "light"
          }
        }
      ]
    }
  ]
}